{
  "cells": [
    {
      "cell_type": "code",
      "source": [
        "import pandas as pd"
      ],
      "metadata": {
        "id": "S6I5aLy8ZRYv"
      },
      "execution_count": null,
      "outputs": []
    },
    {
      "cell_type": "markdown",
      "metadata": {
        "id": "Ad6yTBw3VMT1"
      },
      "source": [
        "## Задачи для совместного разбора"
      ]
    },
    {
      "cell_type": "markdown",
      "metadata": {
        "id": "0HnKQ7K8VMT2"
      },
      "source": [
        "1. Загрузите данные из файла `sp500hst.txt` и обозначьте столбцы в соответствии с содержимым: `\"date\", \"ticker\", \"open\", \"high\", \"low\", \"close\", \"volume\"`."
      ]
    },
    {
      "cell_type": "code",
      "source": [
        "import pandas as pd\n",
        "dfrm = pd.read_csv('sp500hst.txt', header=None, sep=',', names=[ \"date\",  \"ticker\", \"open\", \"high\", \"low\", \"close\", \"volume\" ])\n",
        "print(dfrm)"
      ],
      "metadata": {
        "colab": {
          "base_uri": "https://localhost:8080/"
        },
        "id": "O-7UhwUKVRZA",
        "outputId": "b28e3dad-224f-44e4-c7c2-794a720efc2f"
      },
      "execution_count": null,
      "outputs": [
        {
          "output_type": "stream",
          "name": "stdout",
          "text": [
            "            date ticker   open     high     low  close  volume\n",
            "0       20090821      A  25.60  25.6100  25.220  25.55   34758\n",
            "1       20090824      A  25.64  25.7400  25.330  25.50   22247\n",
            "2       20090825      A  25.50  25.7000  25.225  25.34   30891\n",
            "3       20090826      A  25.32  25.6425  25.145  25.48   33334\n",
            "4       20090827      A  25.50  25.5700  25.230  25.54   70176\n",
            "...          ...    ...    ...      ...     ...    ...     ...\n",
            "122569  20100813    ZMH  51.72  51.9000  51.380  51.44   14561\n",
            "122570  20100816    ZMH  51.13  51.4700  50.600  51.00   13489\n",
            "122571  20100817    ZMH  51.14  51.6000  50.890  51.21   20498\n",
            "122572  20100819    ZMH  51.63  51.6300  50.170  50.22   18259\n",
            "122573  20100820    ZMH  50.03  50.5500  49.480  49.82   17792\n",
            "\n",
            "[122574 rows x 7 columns]\n"
          ]
        }
      ]
    },
    {
      "cell_type": "markdown",
      "metadata": {
        "id": "Vcp3H0-rVMT3"
      },
      "source": [
        "2. Рассчитайте среднее значение показателей для каждого из столбцов c номерами 3-6."
      ]
    },
    {
      "cell_type": "code",
      "source": [
        "dfrm = pd.read_csv('sp500hst.txt', header=None, sep=',', names=[ \"date\",  \"ticker\", \"open\", \"high\", \"low\", \"close\", \"volume\" ])\n",
        "dfrm[['open', 'high', 'low', 'close', 'volume']].iloc[3:7].mean(axis=0)"
      ],
      "metadata": {
        "colab": {
          "base_uri": "https://localhost:8080/"
        },
        "id": "tTPtMVXxdpY9",
        "outputId": "1beb17a2-1cfd-4948-c96e-18361c460449"
      },
      "execution_count": null,
      "outputs": [
        {
          "output_type": "execute_result",
          "data": {
            "text/plain": [
              "open         25.485000\n",
              "high         25.750625\n",
              "low          25.328750\n",
              "close        25.632500\n",
              "volume    48567.000000\n",
              "dtype: float64"
            ]
          },
          "metadata": {},
          "execution_count": 19
        }
      ]
    },
    {
      "cell_type": "markdown",
      "metadata": {
        "id": "BNY3t-jxVMT4"
      },
      "source": [
        "3. Добавьте столбец, содержащий только число месяца, к которому относится дата."
      ]
    },
    {
      "cell_type": "code",
      "source": [
        "x=dfrm['date']\n",
        "k=0\n",
        "dfrm['date1']=x\n",
        "for y in x:\n",
        "  y=str(y)\n",
        "  dfrm['date1'][k]=y[6:8]\n",
        "  k+=1\n",
        "print(dfrm)"
      ],
      "metadata": {
        "id": "-OdJm933h3Co"
      },
      "execution_count": null,
      "outputs": []
    },
    {
      "cell_type": "code",
      "source": [
        "dfrm.drop(['New'], axis=1)"
      ],
      "metadata": {
        "colab": {
          "base_uri": "https://localhost:8080/",
          "height": 423
        },
        "id": "TgebgTqsmuD4",
        "outputId": "5abb895d-eaeb-492f-f68f-946f90bb00f2"
      },
      "execution_count": null,
      "outputs": [
        {
          "output_type": "execute_result",
          "data": {
            "text/plain": [
              "            date ticker   open     high     low  close  volume  date1\n",
              "0       20090821      A  25.60  25.6100  25.220  25.55   34758     21\n",
              "1       20090824      A  25.64  25.7400  25.330  25.50   22247     24\n",
              "2       20090825      A  25.50  25.7000  25.225  25.34   30891     25\n",
              "3       20090826      A  25.32  25.6425  25.145  25.48   33334     26\n",
              "4       20090827      A  25.50  25.5700  25.230  25.54   70176     27\n",
              "...          ...    ...    ...      ...     ...    ...     ...    ...\n",
              "122569  20100813    ZMH  51.72  51.9000  51.380  51.44   14561     13\n",
              "122570  20100816    ZMH  51.13  51.4700  50.600  51.00   13489     16\n",
              "122571  20100817    ZMH  51.14  51.6000  50.890  51.21   20498     17\n",
              "122572  20100819    ZMH  51.63  51.6300  50.170  50.22   18259     19\n",
              "122573  20100820    ZMH  50.03  50.5500  49.480  49.82   17792     20\n",
              "\n",
              "[122574 rows x 8 columns]"
            ],
            "text/html": [
              "\n",
              "  <div id=\"df-31ec0b4c-9aa2-4214-8f1a-70e411316b6f\">\n",
              "    <div class=\"colab-df-container\">\n",
              "      <div>\n",
              "<style scoped>\n",
              "    .dataframe tbody tr th:only-of-type {\n",
              "        vertical-align: middle;\n",
              "    }\n",
              "\n",
              "    .dataframe tbody tr th {\n",
              "        vertical-align: top;\n",
              "    }\n",
              "\n",
              "    .dataframe thead th {\n",
              "        text-align: right;\n",
              "    }\n",
              "</style>\n",
              "<table border=\"1\" class=\"dataframe\">\n",
              "  <thead>\n",
              "    <tr style=\"text-align: right;\">\n",
              "      <th></th>\n",
              "      <th>date</th>\n",
              "      <th>ticker</th>\n",
              "      <th>open</th>\n",
              "      <th>high</th>\n",
              "      <th>low</th>\n",
              "      <th>close</th>\n",
              "      <th>volume</th>\n",
              "      <th>date1</th>\n",
              "    </tr>\n",
              "  </thead>\n",
              "  <tbody>\n",
              "    <tr>\n",
              "      <th>0</th>\n",
              "      <td>20090821</td>\n",
              "      <td>A</td>\n",
              "      <td>25.60</td>\n",
              "      <td>25.6100</td>\n",
              "      <td>25.220</td>\n",
              "      <td>25.55</td>\n",
              "      <td>34758</td>\n",
              "      <td>21</td>\n",
              "    </tr>\n",
              "    <tr>\n",
              "      <th>1</th>\n",
              "      <td>20090824</td>\n",
              "      <td>A</td>\n",
              "      <td>25.64</td>\n",
              "      <td>25.7400</td>\n",
              "      <td>25.330</td>\n",
              "      <td>25.50</td>\n",
              "      <td>22247</td>\n",
              "      <td>24</td>\n",
              "    </tr>\n",
              "    <tr>\n",
              "      <th>2</th>\n",
              "      <td>20090825</td>\n",
              "      <td>A</td>\n",
              "      <td>25.50</td>\n",
              "      <td>25.7000</td>\n",
              "      <td>25.225</td>\n",
              "      <td>25.34</td>\n",
              "      <td>30891</td>\n",
              "      <td>25</td>\n",
              "    </tr>\n",
              "    <tr>\n",
              "      <th>3</th>\n",
              "      <td>20090826</td>\n",
              "      <td>A</td>\n",
              "      <td>25.32</td>\n",
              "      <td>25.6425</td>\n",
              "      <td>25.145</td>\n",
              "      <td>25.48</td>\n",
              "      <td>33334</td>\n",
              "      <td>26</td>\n",
              "    </tr>\n",
              "    <tr>\n",
              "      <th>4</th>\n",
              "      <td>20090827</td>\n",
              "      <td>A</td>\n",
              "      <td>25.50</td>\n",
              "      <td>25.5700</td>\n",
              "      <td>25.230</td>\n",
              "      <td>25.54</td>\n",
              "      <td>70176</td>\n",
              "      <td>27</td>\n",
              "    </tr>\n",
              "    <tr>\n",
              "      <th>...</th>\n",
              "      <td>...</td>\n",
              "      <td>...</td>\n",
              "      <td>...</td>\n",
              "      <td>...</td>\n",
              "      <td>...</td>\n",
              "      <td>...</td>\n",
              "      <td>...</td>\n",
              "      <td>...</td>\n",
              "    </tr>\n",
              "    <tr>\n",
              "      <th>122569</th>\n",
              "      <td>20100813</td>\n",
              "      <td>ZMH</td>\n",
              "      <td>51.72</td>\n",
              "      <td>51.9000</td>\n",
              "      <td>51.380</td>\n",
              "      <td>51.44</td>\n",
              "      <td>14561</td>\n",
              "      <td>13</td>\n",
              "    </tr>\n",
              "    <tr>\n",
              "      <th>122570</th>\n",
              "      <td>20100816</td>\n",
              "      <td>ZMH</td>\n",
              "      <td>51.13</td>\n",
              "      <td>51.4700</td>\n",
              "      <td>50.600</td>\n",
              "      <td>51.00</td>\n",
              "      <td>13489</td>\n",
              "      <td>16</td>\n",
              "    </tr>\n",
              "    <tr>\n",
              "      <th>122571</th>\n",
              "      <td>20100817</td>\n",
              "      <td>ZMH</td>\n",
              "      <td>51.14</td>\n",
              "      <td>51.6000</td>\n",
              "      <td>50.890</td>\n",
              "      <td>51.21</td>\n",
              "      <td>20498</td>\n",
              "      <td>17</td>\n",
              "    </tr>\n",
              "    <tr>\n",
              "      <th>122572</th>\n",
              "      <td>20100819</td>\n",
              "      <td>ZMH</td>\n",
              "      <td>51.63</td>\n",
              "      <td>51.6300</td>\n",
              "      <td>50.170</td>\n",
              "      <td>50.22</td>\n",
              "      <td>18259</td>\n",
              "      <td>19</td>\n",
              "    </tr>\n",
              "    <tr>\n",
              "      <th>122573</th>\n",
              "      <td>20100820</td>\n",
              "      <td>ZMH</td>\n",
              "      <td>50.03</td>\n",
              "      <td>50.5500</td>\n",
              "      <td>49.480</td>\n",
              "      <td>49.82</td>\n",
              "      <td>17792</td>\n",
              "      <td>20</td>\n",
              "    </tr>\n",
              "  </tbody>\n",
              "</table>\n",
              "<p>122574 rows × 8 columns</p>\n",
              "</div>\n",
              "      <button class=\"colab-df-convert\" onclick=\"convertToInteractive('df-31ec0b4c-9aa2-4214-8f1a-70e411316b6f')\"\n",
              "              title=\"Convert this dataframe to an interactive table.\"\n",
              "              style=\"display:none;\">\n",
              "        \n",
              "  <svg xmlns=\"http://www.w3.org/2000/svg\" height=\"24px\"viewBox=\"0 0 24 24\"\n",
              "       width=\"24px\">\n",
              "    <path d=\"M0 0h24v24H0V0z\" fill=\"none\"/>\n",
              "    <path d=\"M18.56 5.44l.94 2.06.94-2.06 2.06-.94-2.06-.94-.94-2.06-.94 2.06-2.06.94zm-11 1L8.5 8.5l.94-2.06 2.06-.94-2.06-.94L8.5 2.5l-.94 2.06-2.06.94zm10 10l.94 2.06.94-2.06 2.06-.94-2.06-.94-.94-2.06-.94 2.06-2.06.94z\"/><path d=\"M17.41 7.96l-1.37-1.37c-.4-.4-.92-.59-1.43-.59-.52 0-1.04.2-1.43.59L10.3 9.45l-7.72 7.72c-.78.78-.78 2.05 0 2.83L4 21.41c.39.39.9.59 1.41.59.51 0 1.02-.2 1.41-.59l7.78-7.78 2.81-2.81c.8-.78.8-2.07 0-2.86zM5.41 20L4 18.59l7.72-7.72 1.47 1.35L5.41 20z\"/>\n",
              "  </svg>\n",
              "      </button>\n",
              "      \n",
              "  <style>\n",
              "    .colab-df-container {\n",
              "      display:flex;\n",
              "      flex-wrap:wrap;\n",
              "      gap: 12px;\n",
              "    }\n",
              "\n",
              "    .colab-df-convert {\n",
              "      background-color: #E8F0FE;\n",
              "      border: none;\n",
              "      border-radius: 50%;\n",
              "      cursor: pointer;\n",
              "      display: none;\n",
              "      fill: #1967D2;\n",
              "      height: 32px;\n",
              "      padding: 0 0 0 0;\n",
              "      width: 32px;\n",
              "    }\n",
              "\n",
              "    .colab-df-convert:hover {\n",
              "      background-color: #E2EBFA;\n",
              "      box-shadow: 0px 1px 2px rgba(60, 64, 67, 0.3), 0px 1px 3px 1px rgba(60, 64, 67, 0.15);\n",
              "      fill: #174EA6;\n",
              "    }\n",
              "\n",
              "    [theme=dark] .colab-df-convert {\n",
              "      background-color: #3B4455;\n",
              "      fill: #D2E3FC;\n",
              "    }\n",
              "\n",
              "    [theme=dark] .colab-df-convert:hover {\n",
              "      background-color: #434B5C;\n",
              "      box-shadow: 0px 1px 3px 1px rgba(0, 0, 0, 0.15);\n",
              "      filter: drop-shadow(0px 1px 2px rgba(0, 0, 0, 0.3));\n",
              "      fill: #FFFFFF;\n",
              "    }\n",
              "  </style>\n",
              "\n",
              "      <script>\n",
              "        const buttonEl =\n",
              "          document.querySelector('#df-31ec0b4c-9aa2-4214-8f1a-70e411316b6f button.colab-df-convert');\n",
              "        buttonEl.style.display =\n",
              "          google.colab.kernel.accessAllowed ? 'block' : 'none';\n",
              "\n",
              "        async function convertToInteractive(key) {\n",
              "          const element = document.querySelector('#df-31ec0b4c-9aa2-4214-8f1a-70e411316b6f');\n",
              "          const dataTable =\n",
              "            await google.colab.kernel.invokeFunction('convertToInteractive',\n",
              "                                                     [key], {});\n",
              "          if (!dataTable) return;\n",
              "\n",
              "          const docLinkHtml = 'Like what you see? Visit the ' +\n",
              "            '<a target=\"_blank\" href=https://colab.research.google.com/notebooks/data_table.ipynb>data table notebook</a>'\n",
              "            + ' to learn more about interactive tables.';\n",
              "          element.innerHTML = '';\n",
              "          dataTable['output_type'] = 'display_data';\n",
              "          await google.colab.output.renderOutput(dataTable, element);\n",
              "          const docLink = document.createElement('div');\n",
              "          docLink.innerHTML = docLinkHtml;\n",
              "          element.appendChild(docLink);\n",
              "        }\n",
              "      </script>\n",
              "    </div>\n",
              "  </div>\n",
              "  "
            ]
          },
          "metadata": {},
          "execution_count": 28
        }
      ]
    },
    {
      "cell_type": "markdown",
      "metadata": {
        "id": "WrBf0APvVMT5"
      },
      "source": [
        "4. Рассчитайте суммарный объем торгов для для одинаковых значений тикеров."
      ]
    },
    {
      "cell_type": "markdown",
      "metadata": {
        "id": "BcY6VSm4VMT7"
      },
      "source": [
        "5. Загрузите данные из файла sp500hst.txt и обозначьте столбцы в соответствии с содержимым: \"date\", \"ticker\", \"open\", \"high\", \"low\", \"close\", \"volume\". Добавьте столбец с расшифровкой названия тикера, используя данные из файла `sp_data2.csv` . В случае нехватки данных об именах тикеров корректно обработать их."
      ]
    },
    {
      "cell_type": "markdown",
      "metadata": {
        "id": "syQiXPupVMT9"
      },
      "source": [
        "## Лабораторная работа №2"
      ]
    },
    {
      "cell_type": "markdown",
      "metadata": {
        "id": "liWwRKn6VMT-"
      },
      "source": [
        "### Базовые операции с `DataFrame`"
      ]
    },
    {
      "cell_type": "markdown",
      "metadata": {
        "id": "9YvNkTMuVMUA"
      },
      "source": [
        "1.1 В файлах `recipes_sample.csv` и `reviews_sample.csv` находится информация об рецептах блюд и отзывах на эти рецепты соответственно. Загрузите данные из файлов в виде `pd.DataFrame` с названиями `recipes` и `reviews`. Обратите внимание на корректное считывание столбца с индексами в таблице `reviews` (безымянный столбец)."
      ]
    },
    {
      "cell_type": "code",
      "source": [
        "rp = pd.read_csv('recipes_sample.csv', sep=',')\n",
        "rw = pd.read_csv('reviews_sample.csv', index_col=0, sep=',')\n",
        "print(rp.head())\n",
        "print(rw.head())"
      ],
      "metadata": {
        "colab": {
          "base_uri": "https://localhost:8080/"
        },
        "id": "4olgmUrroPE4",
        "outputId": "be48d9d2-bb1d-4df5-be11-fb34dbf8936f"
      },
      "execution_count": null,
      "outputs": [
        {
          "output_type": "stream",
          "name": "stdout",
          "text": [
            "                                       name     id  minutes  contributor_id  \\\n",
            "0     george s at the cove  black bean soup  44123       90           35193   \n",
            "1        healthy for them  yogurt popsicles  67664       10           91970   \n",
            "2              i can t believe it s spinach  38798       30            1533   \n",
            "3                      italian  gut busters  35173       45           22724   \n",
            "4  love is in the air  beef fondue   sauces  84797       25            4470   \n",
            "\n",
            "    submitted  n_steps                                        description  \\\n",
            "0  2002-10-25      NaN  an original recipe created by chef scott meska...   \n",
            "1  2003-07-26      NaN  my children and their friends ask for my homem...   \n",
            "2  2002-08-29      NaN            these were so go, it surprised even me.   \n",
            "3  2002-07-27      NaN  my sister-in-law made these for us at a family...   \n",
            "4  2004-02-23      4.0  i think a fondue is a very romantic casual din...   \n",
            "\n",
            "   n_ingredients  \n",
            "0           18.0  \n",
            "1            NaN  \n",
            "2            8.0  \n",
            "3            NaN  \n",
            "4            NaN  \n",
            "           user_id  recipe_id        date  rating  \\\n",
            "370476       21752      57993  2003-05-01       5   \n",
            "624300      431813     142201  2007-09-16       5   \n",
            "187037      400708     252013  2008-01-10       4   \n",
            "706134  2001852463     404716  2017-12-11       5   \n",
            "312179       95810     129396  2008-03-14       5   \n",
            "\n",
            "                                                   review  \n",
            "370476  Last week whole sides of frozen salmon fillet ...  \n",
            "624300  So simple and so tasty!  I used a yellow capsi...  \n",
            "187037  Very nice breakfast HH, easy to make and yummy...  \n",
            "706134  These are a favorite for the holidays and so e...  \n",
            "312179  Excellent soup!  The tomato flavor is just gre...  \n"
          ]
        }
      ]
    },
    {
      "cell_type": "markdown",
      "metadata": {
        "id": "-13Iz_58VMUB"
      },
      "source": [
        "1.2 Для каждой из таблиц выведите основные параметры:\n",
        "* количество точек данных (строк);\n",
        "* количество столбцов;\n",
        "* тип данных каждого столбца."
      ]
    },
    {
      "cell_type": "code",
      "source": [
        "print('количество строк в rp:',len(rp.index))\n",
        "print('количество строк в rw:',len(rw.index))\n",
        "\n",
        "print('количество столбцов в rp:', len(rp.axes[1]))\n",
        "print('количество столбцов в rw:', len(rw.axes[1]))\n",
        "\n",
        "print('тип данных в rp:',  rp.dtypes)\n",
        "print('тип данных в rw:', rw.dtypes)"
      ],
      "metadata": {
        "colab": {
          "base_uri": "https://localhost:8080/"
        },
        "id": "Lf1K32Jcq0Co",
        "outputId": "115070b9-bc6f-4f2e-a591-284a94533978"
      },
      "execution_count": null,
      "outputs": [
        {
          "output_type": "stream",
          "name": "stdout",
          "text": [
            "количество строк в rp: 30000\n",
            "количество строк в rw: 126696\n",
            "количество столбцов в rp: 8\n",
            "количество столбцов в rw: 5\n",
            "тип данных в rp: name               object\n",
            "id                  int64\n",
            "minutes             int64\n",
            "contributor_id      int64\n",
            "submitted          object\n",
            "n_steps           float64\n",
            "description        object\n",
            "n_ingredients     float64\n",
            "dtype: object\n",
            "тип данных в rw: user_id       int64\n",
            "recipe_id     int64\n",
            "date         object\n",
            "rating        int64\n",
            "review       object\n",
            "dtype: object\n"
          ]
        }
      ]
    },
    {
      "cell_type": "markdown",
      "metadata": {
        "id": "zastfj56VMUC"
      },
      "source": [
        "1.3 Исследуйте, в каких столбцах таблиц содержатся пропуски. Посчитайте долю строк, содержащих пропуски, в отношении к общему количеству строк."
      ]
    },
    {
      "cell_type": "code",
      "source": [
        "print('где в rp и сколько пропусков имеется:', rp.isnull().sum())\n",
        "print('где в rw и сколько пропусков имеется:', rw.isnull().sum())\n",
        "\n",
        "print('доля в отношении к общ кол-ву строк в rp:', rp.isnull().sum()/len(rp.index))\n",
        "print('доля в отношении к общ кол-ву строк в rw:', rw.isnull().sum()/len(rw.index))\n",
        "\n",
        "print('итоговая сумма долей в rp:', (rp.isnull().sum()/len(rp.index)).sum())\n",
        "print('итоговая сумма долей в rw:', (rw.isnull().sum()/len(rw.index)).sum())"
      ],
      "metadata": {
        "colab": {
          "base_uri": "https://localhost:8080/"
        },
        "id": "Y1Fd9MZKs65B",
        "outputId": "fe76ea99-ef3b-4b5c-94bb-de3fcec43e93"
      },
      "execution_count": null,
      "outputs": [
        {
          "output_type": "stream",
          "name": "stdout",
          "text": [
            "где в rp и сколько пропусков имеется: name                  0\n",
            "id                    0\n",
            "minutes               0\n",
            "contributor_id        0\n",
            "submitted             0\n",
            "n_steps           11190\n",
            "description         623\n",
            "n_ingredients      8880\n",
            "dtype: int64\n",
            "где в rw и сколько пропусков имеется: user_id       0\n",
            "recipe_id     0\n",
            "date          0\n",
            "rating        0\n",
            "review       17\n",
            "dtype: int64\n",
            "доля в отношении к общ кол-ву строк в rp: name              0.000000\n",
            "id                0.000000\n",
            "minutes           0.000000\n",
            "contributor_id    0.000000\n",
            "submitted         0.000000\n",
            "n_steps           0.373000\n",
            "description       0.020767\n",
            "n_ingredients     0.296000\n",
            "dtype: float64\n",
            "доля в отношении к общ кол-ву строк в rw: user_id      0.000000\n",
            "recipe_id    0.000000\n",
            "date         0.000000\n",
            "rating       0.000000\n",
            "review       0.000134\n",
            "dtype: float64\n",
            "итоговая сумма долей в rp: 0.6897666666666666\n",
            "итоговая сумма долей в rw: 0.00013417945317926376\n"
          ]
        }
      ]
    },
    {
      "cell_type": "markdown",
      "metadata": {
        "id": "RkyGIKGDVMUC"
      },
      "source": [
        "1.4 Рассчитайте среднее значение для каждого из числовых столбцов (где это имеет смысл)."
      ]
    },
    {
      "cell_type": "code",
      "source": [
        "x=rp.select_dtypes('number').mean()\n",
        "print('среднее значение в rp: ', x[1:])\n",
        "\n",
        "y=rw.select_dtypes('number').mean()\n",
        "print('среднее значение в rw: ', y[1:])"
      ],
      "metadata": {
        "colab": {
          "base_uri": "https://localhost:8080/"
        },
        "id": "rfB8NW8OwMCR",
        "outputId": "e9d6c609-2ab7-4db2-cd7d-f794da6764ae"
      },
      "execution_count": null,
      "outputs": [
        {
          "output_type": "stream",
          "name": "stdout",
          "text": [
            "среднее значение в rp:  minutes           1.233581e+02\n",
            "contributor_id    5.635901e+06\n",
            "n_steps           9.805582e+00\n",
            "n_ingredients     9.008286e+00\n",
            "dtype: float64\n",
            "среднее значение в rw:  recipe_id    160094.387060\n",
            "rating            4.410802\n",
            "dtype: float64\n"
          ]
        }
      ]
    },
    {
      "cell_type": "markdown",
      "metadata": {
        "id": "2T_aFz_rVMUD"
      },
      "source": [
        "1.5 Создайте серию из 10 случайных названий рецептов."
      ]
    },
    {
      "cell_type": "code",
      "source": [
        "z=rp['name'].sample(10)\n",
        "print('10 случайных рецептов:', z)"
      ],
      "metadata": {
        "colab": {
          "base_uri": "https://localhost:8080/"
        },
        "id": "zrebJjm-x-Ng",
        "outputId": "73c501ef-d31a-4b12-d4ee-25193a481c12"
      },
      "execution_count": null,
      "outputs": [
        {
          "output_type": "stream",
          "name": "stdout",
          "text": [
            "10 случайных рецептов: 7607                      corn souffle  stouffer s copycat\n",
            "26184                  stuffed mushrooms  lidia bastianich\n",
            "9350     dense  delicious brownies  gluten free  dairy ...\n",
            "12552                                    greek green beans\n",
            "7041                              cinnamon honeygrapefruit\n",
            "8467                                    crisp french toast\n",
            "28557                                       veal forestier\n",
            "8450                        crescent cinnamon cherry rolls\n",
            "15769                                     leftover pasties\n",
            "28872        vienna country style ribs for pressure cooker\n",
            "Name: name, dtype: object\n"
          ]
        }
      ]
    },
    {
      "cell_type": "markdown",
      "metadata": {
        "id": "AcmvIgkgVMUE"
      },
      "source": [
        "1.6 Измените индекс в таблице `reviews`, пронумеровав строки, начиная с нуля."
      ]
    },
    {
      "cell_type": "code",
      "source": [
        "rw.reset_index(drop= True , inplace= True )\n",
        "print(rw.head(10))"
      ],
      "metadata": {
        "colab": {
          "base_uri": "https://localhost:8080/"
        },
        "id": "x2fue9nEyuzI",
        "outputId": "f0e92771-1ae8-42ea-915f-bfdf8d1f79a5"
      },
      "execution_count": null,
      "outputs": [
        {
          "output_type": "stream",
          "name": "stdout",
          "text": [
            "      user_id  recipe_id        date  rating  \\\n",
            "0       21752      57993  2003-05-01       5   \n",
            "1      431813     142201  2007-09-16       5   \n",
            "2      400708     252013  2008-01-10       4   \n",
            "3  2001852463     404716  2017-12-11       5   \n",
            "4       95810     129396  2008-03-14       5   \n",
            "5       35106      31322  2003-01-03       4   \n",
            "6      404333     199579  2006-12-10       5   \n",
            "7      162888      16067  2005-12-09       5   \n",
            "8       89831      33715  2007-07-03       5   \n",
            "9      308434      11252  2008-12-14       5   \n",
            "\n",
            "                                              review  \n",
            "0  Last week whole sides of frozen salmon fillet ...  \n",
            "1  So simple and so tasty!  I used a yellow capsi...  \n",
            "2  Very nice breakfast HH, easy to make and yummy...  \n",
            "3  These are a favorite for the holidays and so e...  \n",
            "4  Excellent soup!  The tomato flavor is just gre...  \n",
            "5  I forgot to add skim milk but it still tasted ...  \n",
            "6  Made this for dinner it was so excellent, fina...  \n",
            "7  When I snapped the picture, I forgot to review...  \n",
            "8  This was good combination of flavors but I wil...  \n",
            "9  Oh Bergy!  These wonderful little cakes are aw...  \n"
          ]
        }
      ]
    },
    {
      "cell_type": "markdown",
      "metadata": {
        "id": "502Iw5sPVMUF"
      },
      "source": [
        "1.7 Выведите информацию о рецептах, время выполнения которых не больше 20 минут и кол-во ингредиентов в которых не больше 5."
      ]
    },
    {
      "cell_type": "code",
      "source": [
        "rp[(rp.minutes < 21) & (rp.n_ingredients < 6)].head()"
      ],
      "metadata": {
        "colab": {
          "base_uri": "https://localhost:8080/",
          "height": 206
        },
        "id": "rdGGfNZV0NER",
        "outputId": "a26e1fdd-abf9-4a7f-911f-47a3abbcb4c8"
      },
      "execution_count": null,
      "outputs": [
        {
          "output_type": "execute_result",
          "data": {
            "text/plain": [
              "                                          name      id  minutes  \\\n",
              "28                         quick biscuit bread  302399       20   \n",
              "60               peas  fit for a king or queen  303944       20   \n",
              "90           hawaiian sunrise           mimosa  100837        5   \n",
              "91  tasty dish s   banana pudding in 2 minutes  286484        2   \n",
              "94                          1 minute meatballs   11361       13   \n",
              "\n",
              "    contributor_id   submitted  n_steps  \\\n",
              "28          213909  2008-05-06     11.0   \n",
              "60          213909  2008-05-16      NaN   \n",
              "90           58104  2004-09-29      4.0   \n",
              "91           47892  2008-02-13      NaN   \n",
              "94            4470  2001-09-03      NaN   \n",
              "\n",
              "                                          description  n_ingredients  \n",
              "28  this is a wonderful quick bread to make as an ...            5.0  \n",
              "60  this recipe is so simple and the flavors are s...            5.0  \n",
              "90  pineapple mimosa was changed to hawaiian sunri...            3.0  \n",
              "91  \"mmmm, i love bananas!\" a --tasty dish-- origi...            4.0  \n",
              "94  this is a real short cut for cooks in a hurry....            2.0  "
            ],
            "text/html": [
              "\n",
              "  <div id=\"df-169f6397-24a5-4da2-8c08-7ba96003aea9\">\n",
              "    <div class=\"colab-df-container\">\n",
              "      <div>\n",
              "<style scoped>\n",
              "    .dataframe tbody tr th:only-of-type {\n",
              "        vertical-align: middle;\n",
              "    }\n",
              "\n",
              "    .dataframe tbody tr th {\n",
              "        vertical-align: top;\n",
              "    }\n",
              "\n",
              "    .dataframe thead th {\n",
              "        text-align: right;\n",
              "    }\n",
              "</style>\n",
              "<table border=\"1\" class=\"dataframe\">\n",
              "  <thead>\n",
              "    <tr style=\"text-align: right;\">\n",
              "      <th></th>\n",
              "      <th>name</th>\n",
              "      <th>id</th>\n",
              "      <th>minutes</th>\n",
              "      <th>contributor_id</th>\n",
              "      <th>submitted</th>\n",
              "      <th>n_steps</th>\n",
              "      <th>description</th>\n",
              "      <th>n_ingredients</th>\n",
              "    </tr>\n",
              "  </thead>\n",
              "  <tbody>\n",
              "    <tr>\n",
              "      <th>28</th>\n",
              "      <td>quick biscuit bread</td>\n",
              "      <td>302399</td>\n",
              "      <td>20</td>\n",
              "      <td>213909</td>\n",
              "      <td>2008-05-06</td>\n",
              "      <td>11.0</td>\n",
              "      <td>this is a wonderful quick bread to make as an ...</td>\n",
              "      <td>5.0</td>\n",
              "    </tr>\n",
              "    <tr>\n",
              "      <th>60</th>\n",
              "      <td>peas  fit for a king or queen</td>\n",
              "      <td>303944</td>\n",
              "      <td>20</td>\n",
              "      <td>213909</td>\n",
              "      <td>2008-05-16</td>\n",
              "      <td>NaN</td>\n",
              "      <td>this recipe is so simple and the flavors are s...</td>\n",
              "      <td>5.0</td>\n",
              "    </tr>\n",
              "    <tr>\n",
              "      <th>90</th>\n",
              "      <td>hawaiian sunrise           mimosa</td>\n",
              "      <td>100837</td>\n",
              "      <td>5</td>\n",
              "      <td>58104</td>\n",
              "      <td>2004-09-29</td>\n",
              "      <td>4.0</td>\n",
              "      <td>pineapple mimosa was changed to hawaiian sunri...</td>\n",
              "      <td>3.0</td>\n",
              "    </tr>\n",
              "    <tr>\n",
              "      <th>91</th>\n",
              "      <td>tasty dish s   banana pudding in 2 minutes</td>\n",
              "      <td>286484</td>\n",
              "      <td>2</td>\n",
              "      <td>47892</td>\n",
              "      <td>2008-02-13</td>\n",
              "      <td>NaN</td>\n",
              "      <td>\"mmmm, i love bananas!\" a --tasty dish-- origi...</td>\n",
              "      <td>4.0</td>\n",
              "    </tr>\n",
              "    <tr>\n",
              "      <th>94</th>\n",
              "      <td>1 minute meatballs</td>\n",
              "      <td>11361</td>\n",
              "      <td>13</td>\n",
              "      <td>4470</td>\n",
              "      <td>2001-09-03</td>\n",
              "      <td>NaN</td>\n",
              "      <td>this is a real short cut for cooks in a hurry....</td>\n",
              "      <td>2.0</td>\n",
              "    </tr>\n",
              "  </tbody>\n",
              "</table>\n",
              "</div>\n",
              "      <button class=\"colab-df-convert\" onclick=\"convertToInteractive('df-169f6397-24a5-4da2-8c08-7ba96003aea9')\"\n",
              "              title=\"Convert this dataframe to an interactive table.\"\n",
              "              style=\"display:none;\">\n",
              "        \n",
              "  <svg xmlns=\"http://www.w3.org/2000/svg\" height=\"24px\"viewBox=\"0 0 24 24\"\n",
              "       width=\"24px\">\n",
              "    <path d=\"M0 0h24v24H0V0z\" fill=\"none\"/>\n",
              "    <path d=\"M18.56 5.44l.94 2.06.94-2.06 2.06-.94-2.06-.94-.94-2.06-.94 2.06-2.06.94zm-11 1L8.5 8.5l.94-2.06 2.06-.94-2.06-.94L8.5 2.5l-.94 2.06-2.06.94zm10 10l.94 2.06.94-2.06 2.06-.94-2.06-.94-.94-2.06-.94 2.06-2.06.94z\"/><path d=\"M17.41 7.96l-1.37-1.37c-.4-.4-.92-.59-1.43-.59-.52 0-1.04.2-1.43.59L10.3 9.45l-7.72 7.72c-.78.78-.78 2.05 0 2.83L4 21.41c.39.39.9.59 1.41.59.51 0 1.02-.2 1.41-.59l7.78-7.78 2.81-2.81c.8-.78.8-2.07 0-2.86zM5.41 20L4 18.59l7.72-7.72 1.47 1.35L5.41 20z\"/>\n",
              "  </svg>\n",
              "      </button>\n",
              "      \n",
              "  <style>\n",
              "    .colab-df-container {\n",
              "      display:flex;\n",
              "      flex-wrap:wrap;\n",
              "      gap: 12px;\n",
              "    }\n",
              "\n",
              "    .colab-df-convert {\n",
              "      background-color: #E8F0FE;\n",
              "      border: none;\n",
              "      border-radius: 50%;\n",
              "      cursor: pointer;\n",
              "      display: none;\n",
              "      fill: #1967D2;\n",
              "      height: 32px;\n",
              "      padding: 0 0 0 0;\n",
              "      width: 32px;\n",
              "    }\n",
              "\n",
              "    .colab-df-convert:hover {\n",
              "      background-color: #E2EBFA;\n",
              "      box-shadow: 0px 1px 2px rgba(60, 64, 67, 0.3), 0px 1px 3px 1px rgba(60, 64, 67, 0.15);\n",
              "      fill: #174EA6;\n",
              "    }\n",
              "\n",
              "    [theme=dark] .colab-df-convert {\n",
              "      background-color: #3B4455;\n",
              "      fill: #D2E3FC;\n",
              "    }\n",
              "\n",
              "    [theme=dark] .colab-df-convert:hover {\n",
              "      background-color: #434B5C;\n",
              "      box-shadow: 0px 1px 3px 1px rgba(0, 0, 0, 0.15);\n",
              "      filter: drop-shadow(0px 1px 2px rgba(0, 0, 0, 0.3));\n",
              "      fill: #FFFFFF;\n",
              "    }\n",
              "  </style>\n",
              "\n",
              "      <script>\n",
              "        const buttonEl =\n",
              "          document.querySelector('#df-169f6397-24a5-4da2-8c08-7ba96003aea9 button.colab-df-convert');\n",
              "        buttonEl.style.display =\n",
              "          google.colab.kernel.accessAllowed ? 'block' : 'none';\n",
              "\n",
              "        async function convertToInteractive(key) {\n",
              "          const element = document.querySelector('#df-169f6397-24a5-4da2-8c08-7ba96003aea9');\n",
              "          const dataTable =\n",
              "            await google.colab.kernel.invokeFunction('convertToInteractive',\n",
              "                                                     [key], {});\n",
              "          if (!dataTable) return;\n",
              "\n",
              "          const docLinkHtml = 'Like what you see? Visit the ' +\n",
              "            '<a target=\"_blank\" href=https://colab.research.google.com/notebooks/data_table.ipynb>data table notebook</a>'\n",
              "            + ' to learn more about interactive tables.';\n",
              "          element.innerHTML = '';\n",
              "          dataTable['output_type'] = 'display_data';\n",
              "          await google.colab.output.renderOutput(dataTable, element);\n",
              "          const docLink = document.createElement('div');\n",
              "          docLink.innerHTML = docLinkHtml;\n",
              "          element.appendChild(docLink);\n",
              "        }\n",
              "      </script>\n",
              "    </div>\n",
              "  </div>\n",
              "  "
            ]
          },
          "metadata": {},
          "execution_count": 71
        }
      ]
    },
    {
      "cell_type": "markdown",
      "metadata": {
        "id": "EDX0YKFIVMUF"
      },
      "source": [
        "### Работа с датами в `pandas`"
      ]
    },
    {
      "cell_type": "markdown",
      "metadata": {
        "id": "lK_V1mKBVMUG"
      },
      "source": [
        "2.1 Преобразуйте столбец `submitted` из таблицы `recipes` в формат времени. Модифицируйте решение задачи 1.1 так, чтобы считать столбец сразу в нужном формате."
      ]
    },
    {
      "cell_type": "code",
      "source": [
        "rp['submitted']=pd.to_datetime(rp['submitted'])\n",
        "print(rp['submitted'].dtype)"
      ],
      "metadata": {
        "id": "ZRd2Pe4eTYZ-",
        "colab": {
          "base_uri": "https://localhost:8080/"
        },
        "outputId": "4cc392da-5149-4707-a6db-799dd75898ad"
      },
      "execution_count": 13,
      "outputs": [
        {
          "output_type": "stream",
          "name": "stdout",
          "text": [
            "datetime64[ns]\n"
          ]
        }
      ]
    },
    {
      "cell_type": "code",
      "source": [
        "rp = pd.read_csv('recipes_sample.csv', sep=',', parse_dates=[4])\n",
        "rw = pd.read_csv('reviews_sample.csv', index_col=0, sep=',', parse_dates=[3])\n",
        "print(rp.head())\n",
        "print(rw.head())"
      ],
      "metadata": {
        "colab": {
          "base_uri": "https://localhost:8080/"
        },
        "id": "N-5oiL-X_frJ",
        "outputId": "497507aa-66e6-4a51-b62e-6caccafd367e"
      },
      "execution_count": 18,
      "outputs": [
        {
          "output_type": "stream",
          "name": "stdout",
          "text": [
            "                                       name     id  minutes  contributor_id  \\\n",
            "0     george s at the cove  black bean soup  44123       90           35193   \n",
            "1        healthy for them  yogurt popsicles  67664       10           91970   \n",
            "2              i can t believe it s spinach  38798       30            1533   \n",
            "3                      italian  gut busters  35173       45           22724   \n",
            "4  love is in the air  beef fondue   sauces  84797       25            4470   \n",
            "\n",
            "   submitted  n_steps                                        description  \\\n",
            "0 2002-10-25      NaN  an original recipe created by chef scott meska...   \n",
            "1 2003-07-26      NaN  my children and their friends ask for my homem...   \n",
            "2 2002-08-29      NaN            these were so go, it surprised even me.   \n",
            "3 2002-07-27      NaN  my sister-in-law made these for us at a family...   \n",
            "4 2004-02-23      4.0  i think a fondue is a very romantic casual din...   \n",
            "\n",
            "   n_ingredients  \n",
            "0           18.0  \n",
            "1            NaN  \n",
            "2            8.0  \n",
            "3            NaN  \n",
            "4            NaN  \n",
            "           user_id  recipe_id       date  rating  \\\n",
            "370476       21752      57993 2003-05-01       5   \n",
            "624300      431813     142201 2007-09-16       5   \n",
            "187037      400708     252013 2008-01-10       4   \n",
            "706134  2001852463     404716 2017-12-11       5   \n",
            "312179       95810     129396 2008-03-14       5   \n",
            "\n",
            "                                                   review  \n",
            "370476  Last week whole sides of frozen salmon fillet ...  \n",
            "624300  So simple and so tasty!  I used a yellow capsi...  \n",
            "187037  Very nice breakfast HH, easy to make and yummy...  \n",
            "706134  These are a favorite for the holidays and so e...  \n",
            "312179  Excellent soup!  The tomato flavor is just gre...  \n"
          ]
        }
      ]
    },
    {
      "cell_type": "markdown",
      "metadata": {
        "id": "ZnGrSwPJVMUH"
      },
      "source": [
        "2.2 Выведите информацию о рецептах, добавленных в датасет не позже 2010 года."
      ]
    },
    {
      "cell_type": "code",
      "source": [
        "rp.loc[rp['submitted'].dt.year < 2011]"
      ],
      "metadata": {
        "id": "jwVdXEvlTYqm",
        "colab": {
          "base_uri": "https://localhost:8080/",
          "height": 641
        },
        "outputId": "48a1ee4b-e682-43eb-e92f-bf351e2b891e"
      },
      "execution_count": 11,
      "outputs": [
        {
          "output_type": "execute_result",
          "data": {
            "text/plain": [
              "                                               name      id  minutes  \\\n",
              "0             george s at the cove  black bean soup   44123       90   \n",
              "1                healthy for them  yogurt popsicles   67664       10   \n",
              "2                      i can t believe it s spinach   38798       30   \n",
              "3                              italian  gut busters   35173       45   \n",
              "4          love is in the air  beef fondue   sauces   84797       25   \n",
              "...                                             ...     ...      ...   \n",
              "29993                     zuni caf zucchini pickles  316950     2895   \n",
              "29995  zurie s holey rustic olive and cheddar bread  267661       80   \n",
              "29996          zwetschgenkuchen  bavarian plum cake  386977      240   \n",
              "29997   zwiebelkuchen   southwest german onion cake  103312       75   \n",
              "29999        cookies by design   cookies on a stick  298512       29   \n",
              "\n",
              "       contributor_id  submitted  n_steps  \\\n",
              "0               35193 2002-10-25      NaN   \n",
              "1               91970 2003-07-26      NaN   \n",
              "2                1533 2002-08-29      NaN   \n",
              "3               22724 2002-07-27      NaN   \n",
              "4                4470 2004-02-23      4.0   \n",
              "...               ...        ...      ...   \n",
              "29993           62264 2008-07-31      NaN   \n",
              "29995          200862 2007-11-25     16.0   \n",
              "29996          177443 2009-08-24      NaN   \n",
              "29997          161745 2004-11-03      NaN   \n",
              "29999          506822 2008-04-15      9.0   \n",
              "\n",
              "                                             description  n_ingredients  \n",
              "0      an original recipe created by chef scott meska...           18.0  \n",
              "1      my children and their friends ask for my homem...            NaN  \n",
              "2                these were so go, it surprised even me.            8.0  \n",
              "3      my sister-in-law made these for us at a family...            NaN  \n",
              "4      i think a fondue is a very romantic casual din...            NaN  \n",
              "...                                                  ...            ...  \n",
              "29993  refrigerator pickles for some of the zucchini ...            8.0  \n",
              "29995  this is based on a french recipe but i changed...           10.0  \n",
              "29996  this is a traditional fresh plum cake, thought...           11.0  \n",
              "29997  this is a traditional late summer early fall s...            NaN  \n",
              "29999  i've heard of the 'cookies by design' company,...           10.0  \n",
              "\n",
              "[27661 rows x 8 columns]"
            ],
            "text/html": [
              "\n",
              "  <div id=\"df-25792740-6e64-4ac4-9507-0d4e724fdf7f\">\n",
              "    <div class=\"colab-df-container\">\n",
              "      <div>\n",
              "<style scoped>\n",
              "    .dataframe tbody tr th:only-of-type {\n",
              "        vertical-align: middle;\n",
              "    }\n",
              "\n",
              "    .dataframe tbody tr th {\n",
              "        vertical-align: top;\n",
              "    }\n",
              "\n",
              "    .dataframe thead th {\n",
              "        text-align: right;\n",
              "    }\n",
              "</style>\n",
              "<table border=\"1\" class=\"dataframe\">\n",
              "  <thead>\n",
              "    <tr style=\"text-align: right;\">\n",
              "      <th></th>\n",
              "      <th>name</th>\n",
              "      <th>id</th>\n",
              "      <th>minutes</th>\n",
              "      <th>contributor_id</th>\n",
              "      <th>submitted</th>\n",
              "      <th>n_steps</th>\n",
              "      <th>description</th>\n",
              "      <th>n_ingredients</th>\n",
              "    </tr>\n",
              "  </thead>\n",
              "  <tbody>\n",
              "    <tr>\n",
              "      <th>0</th>\n",
              "      <td>george s at the cove  black bean soup</td>\n",
              "      <td>44123</td>\n",
              "      <td>90</td>\n",
              "      <td>35193</td>\n",
              "      <td>2002-10-25</td>\n",
              "      <td>NaN</td>\n",
              "      <td>an original recipe created by chef scott meska...</td>\n",
              "      <td>18.0</td>\n",
              "    </tr>\n",
              "    <tr>\n",
              "      <th>1</th>\n",
              "      <td>healthy for them  yogurt popsicles</td>\n",
              "      <td>67664</td>\n",
              "      <td>10</td>\n",
              "      <td>91970</td>\n",
              "      <td>2003-07-26</td>\n",
              "      <td>NaN</td>\n",
              "      <td>my children and their friends ask for my homem...</td>\n",
              "      <td>NaN</td>\n",
              "    </tr>\n",
              "    <tr>\n",
              "      <th>2</th>\n",
              "      <td>i can t believe it s spinach</td>\n",
              "      <td>38798</td>\n",
              "      <td>30</td>\n",
              "      <td>1533</td>\n",
              "      <td>2002-08-29</td>\n",
              "      <td>NaN</td>\n",
              "      <td>these were so go, it surprised even me.</td>\n",
              "      <td>8.0</td>\n",
              "    </tr>\n",
              "    <tr>\n",
              "      <th>3</th>\n",
              "      <td>italian  gut busters</td>\n",
              "      <td>35173</td>\n",
              "      <td>45</td>\n",
              "      <td>22724</td>\n",
              "      <td>2002-07-27</td>\n",
              "      <td>NaN</td>\n",
              "      <td>my sister-in-law made these for us at a family...</td>\n",
              "      <td>NaN</td>\n",
              "    </tr>\n",
              "    <tr>\n",
              "      <th>4</th>\n",
              "      <td>love is in the air  beef fondue   sauces</td>\n",
              "      <td>84797</td>\n",
              "      <td>25</td>\n",
              "      <td>4470</td>\n",
              "      <td>2004-02-23</td>\n",
              "      <td>4.0</td>\n",
              "      <td>i think a fondue is a very romantic casual din...</td>\n",
              "      <td>NaN</td>\n",
              "    </tr>\n",
              "    <tr>\n",
              "      <th>...</th>\n",
              "      <td>...</td>\n",
              "      <td>...</td>\n",
              "      <td>...</td>\n",
              "      <td>...</td>\n",
              "      <td>...</td>\n",
              "      <td>...</td>\n",
              "      <td>...</td>\n",
              "      <td>...</td>\n",
              "    </tr>\n",
              "    <tr>\n",
              "      <th>29993</th>\n",
              "      <td>zuni caf zucchini pickles</td>\n",
              "      <td>316950</td>\n",
              "      <td>2895</td>\n",
              "      <td>62264</td>\n",
              "      <td>2008-07-31</td>\n",
              "      <td>NaN</td>\n",
              "      <td>refrigerator pickles for some of the zucchini ...</td>\n",
              "      <td>8.0</td>\n",
              "    </tr>\n",
              "    <tr>\n",
              "      <th>29995</th>\n",
              "      <td>zurie s holey rustic olive and cheddar bread</td>\n",
              "      <td>267661</td>\n",
              "      <td>80</td>\n",
              "      <td>200862</td>\n",
              "      <td>2007-11-25</td>\n",
              "      <td>16.0</td>\n",
              "      <td>this is based on a french recipe but i changed...</td>\n",
              "      <td>10.0</td>\n",
              "    </tr>\n",
              "    <tr>\n",
              "      <th>29996</th>\n",
              "      <td>zwetschgenkuchen  bavarian plum cake</td>\n",
              "      <td>386977</td>\n",
              "      <td>240</td>\n",
              "      <td>177443</td>\n",
              "      <td>2009-08-24</td>\n",
              "      <td>NaN</td>\n",
              "      <td>this is a traditional fresh plum cake, thought...</td>\n",
              "      <td>11.0</td>\n",
              "    </tr>\n",
              "    <tr>\n",
              "      <th>29997</th>\n",
              "      <td>zwiebelkuchen   southwest german onion cake</td>\n",
              "      <td>103312</td>\n",
              "      <td>75</td>\n",
              "      <td>161745</td>\n",
              "      <td>2004-11-03</td>\n",
              "      <td>NaN</td>\n",
              "      <td>this is a traditional late summer early fall s...</td>\n",
              "      <td>NaN</td>\n",
              "    </tr>\n",
              "    <tr>\n",
              "      <th>29999</th>\n",
              "      <td>cookies by design   cookies on a stick</td>\n",
              "      <td>298512</td>\n",
              "      <td>29</td>\n",
              "      <td>506822</td>\n",
              "      <td>2008-04-15</td>\n",
              "      <td>9.0</td>\n",
              "      <td>i've heard of the 'cookies by design' company,...</td>\n",
              "      <td>10.0</td>\n",
              "    </tr>\n",
              "  </tbody>\n",
              "</table>\n",
              "<p>27661 rows × 8 columns</p>\n",
              "</div>\n",
              "      <button class=\"colab-df-convert\" onclick=\"convertToInteractive('df-25792740-6e64-4ac4-9507-0d4e724fdf7f')\"\n",
              "              title=\"Convert this dataframe to an interactive table.\"\n",
              "              style=\"display:none;\">\n",
              "        \n",
              "  <svg xmlns=\"http://www.w3.org/2000/svg\" height=\"24px\"viewBox=\"0 0 24 24\"\n",
              "       width=\"24px\">\n",
              "    <path d=\"M0 0h24v24H0V0z\" fill=\"none\"/>\n",
              "    <path d=\"M18.56 5.44l.94 2.06.94-2.06 2.06-.94-2.06-.94-.94-2.06-.94 2.06-2.06.94zm-11 1L8.5 8.5l.94-2.06 2.06-.94-2.06-.94L8.5 2.5l-.94 2.06-2.06.94zm10 10l.94 2.06.94-2.06 2.06-.94-2.06-.94-.94-2.06-.94 2.06-2.06.94z\"/><path d=\"M17.41 7.96l-1.37-1.37c-.4-.4-.92-.59-1.43-.59-.52 0-1.04.2-1.43.59L10.3 9.45l-7.72 7.72c-.78.78-.78 2.05 0 2.83L4 21.41c.39.39.9.59 1.41.59.51 0 1.02-.2 1.41-.59l7.78-7.78 2.81-2.81c.8-.78.8-2.07 0-2.86zM5.41 20L4 18.59l7.72-7.72 1.47 1.35L5.41 20z\"/>\n",
              "  </svg>\n",
              "      </button>\n",
              "      \n",
              "  <style>\n",
              "    .colab-df-container {\n",
              "      display:flex;\n",
              "      flex-wrap:wrap;\n",
              "      gap: 12px;\n",
              "    }\n",
              "\n",
              "    .colab-df-convert {\n",
              "      background-color: #E8F0FE;\n",
              "      border: none;\n",
              "      border-radius: 50%;\n",
              "      cursor: pointer;\n",
              "      display: none;\n",
              "      fill: #1967D2;\n",
              "      height: 32px;\n",
              "      padding: 0 0 0 0;\n",
              "      width: 32px;\n",
              "    }\n",
              "\n",
              "    .colab-df-convert:hover {\n",
              "      background-color: #E2EBFA;\n",
              "      box-shadow: 0px 1px 2px rgba(60, 64, 67, 0.3), 0px 1px 3px 1px rgba(60, 64, 67, 0.15);\n",
              "      fill: #174EA6;\n",
              "    }\n",
              "\n",
              "    [theme=dark] .colab-df-convert {\n",
              "      background-color: #3B4455;\n",
              "      fill: #D2E3FC;\n",
              "    }\n",
              "\n",
              "    [theme=dark] .colab-df-convert:hover {\n",
              "      background-color: #434B5C;\n",
              "      box-shadow: 0px 1px 3px 1px rgba(0, 0, 0, 0.15);\n",
              "      filter: drop-shadow(0px 1px 2px rgba(0, 0, 0, 0.3));\n",
              "      fill: #FFFFFF;\n",
              "    }\n",
              "  </style>\n",
              "\n",
              "      <script>\n",
              "        const buttonEl =\n",
              "          document.querySelector('#df-25792740-6e64-4ac4-9507-0d4e724fdf7f button.colab-df-convert');\n",
              "        buttonEl.style.display =\n",
              "          google.colab.kernel.accessAllowed ? 'block' : 'none';\n",
              "\n",
              "        async function convertToInteractive(key) {\n",
              "          const element = document.querySelector('#df-25792740-6e64-4ac4-9507-0d4e724fdf7f');\n",
              "          const dataTable =\n",
              "            await google.colab.kernel.invokeFunction('convertToInteractive',\n",
              "                                                     [key], {});\n",
              "          if (!dataTable) return;\n",
              "\n",
              "          const docLinkHtml = 'Like what you see? Visit the ' +\n",
              "            '<a target=\"_blank\" href=https://colab.research.google.com/notebooks/data_table.ipynb>data table notebook</a>'\n",
              "            + ' to learn more about interactive tables.';\n",
              "          element.innerHTML = '';\n",
              "          dataTable['output_type'] = 'display_data';\n",
              "          await google.colab.output.renderOutput(dataTable, element);\n",
              "          const docLink = document.createElement('div');\n",
              "          docLink.innerHTML = docLinkHtml;\n",
              "          element.appendChild(docLink);\n",
              "        }\n",
              "      </script>\n",
              "    </div>\n",
              "  </div>\n",
              "  "
            ]
          },
          "metadata": {},
          "execution_count": 11
        }
      ]
    },
    {
      "cell_type": "markdown",
      "metadata": {
        "id": "7YM544b8VMUH"
      },
      "source": [
        "### Работа со строковыми данными в `pandas`"
      ]
    },
    {
      "cell_type": "markdown",
      "metadata": {
        "id": "Mk1BZbE5VMUI"
      },
      "source": [
        "3.1  Добавьте в таблицу `recipes` столбец `description_length`, в котором хранится длина описания рецепта из столбца `description`."
      ]
    },
    {
      "cell_type": "code",
      "source": [
        "rp['description_length'] = rp['description'].str.len()\n",
        "print(rp)"
      ],
      "metadata": {
        "id": "_8YCpNmgTZPe",
        "colab": {
          "base_uri": "https://localhost:8080/"
        },
        "outputId": "a78527ec-b6df-42c5-c209-b55541c4668b"
      },
      "execution_count": 19,
      "outputs": [
        {
          "output_type": "stream",
          "name": "stdout",
          "text": [
            "                                               name      id  minutes  \\\n",
            "0             george s at the cove  black bean soup   44123       90   \n",
            "1                healthy for them  yogurt popsicles   67664       10   \n",
            "2                      i can t believe it s spinach   38798       30   \n",
            "3                              italian  gut busters   35173       45   \n",
            "4          love is in the air  beef fondue   sauces   84797       25   \n",
            "...                                             ...     ...      ...   \n",
            "29995  zurie s holey rustic olive and cheddar bread  267661       80   \n",
            "29996          zwetschgenkuchen  bavarian plum cake  386977      240   \n",
            "29997   zwiebelkuchen   southwest german onion cake  103312       75   \n",
            "29998                                   zydeco soup  486161       60   \n",
            "29999        cookies by design   cookies on a stick  298512       29   \n",
            "\n",
            "       contributor_id  submitted  n_steps  \\\n",
            "0               35193 2002-10-25      NaN   \n",
            "1               91970 2003-07-26      NaN   \n",
            "2                1533 2002-08-29      NaN   \n",
            "3               22724 2002-07-27      NaN   \n",
            "4                4470 2004-02-23      4.0   \n",
            "...               ...        ...      ...   \n",
            "29995          200862 2007-11-25     16.0   \n",
            "29996          177443 2009-08-24      NaN   \n",
            "29997          161745 2004-11-03      NaN   \n",
            "29998          227978 2012-08-29      NaN   \n",
            "29999          506822 2008-04-15      9.0   \n",
            "\n",
            "                                             description  n_ingredients  \\\n",
            "0      an original recipe created by chef scott meska...           18.0   \n",
            "1      my children and their friends ask for my homem...            NaN   \n",
            "2                these were so go, it surprised even me.            8.0   \n",
            "3      my sister-in-law made these for us at a family...            NaN   \n",
            "4      i think a fondue is a very romantic casual din...            NaN   \n",
            "...                                                  ...            ...   \n",
            "29995  this is based on a french recipe but i changed...           10.0   \n",
            "29996  this is a traditional fresh plum cake, thought...           11.0   \n",
            "29997  this is a traditional late summer early fall s...            NaN   \n",
            "29998  this is a delicious soup that i originally fou...            NaN   \n",
            "29999  i've heard of the 'cookies by design' company,...           10.0   \n",
            "\n",
            "       description_length  \n",
            "0                   330.0  \n",
            "1                   255.0  \n",
            "2                    39.0  \n",
            "3                   154.0  \n",
            "4                   587.0  \n",
            "...                   ...  \n",
            "29995               484.0  \n",
            "29996               286.0  \n",
            "29997               311.0  \n",
            "29998               648.0  \n",
            "29999               125.0  \n",
            "\n",
            "[30000 rows x 9 columns]\n"
          ]
        }
      ]
    },
    {
      "cell_type": "markdown",
      "metadata": {
        "id": "pqDEZAeGVMUI"
      },
      "source": [
        "3.2 Измените название каждого рецепта в таблице `recipes` таким образом, чтобы каждое слово в названии начиналось с прописной буквы."
      ]
    },
    {
      "cell_type": "code",
      "source": [
        "rp['name'] = rp['name'].str.title()\n",
        "print(rp)"
      ],
      "metadata": {
        "id": "7Fa7G-CsTZJO",
        "colab": {
          "base_uri": "https://localhost:8080/"
        },
        "outputId": "5ba97f11-bcb0-4bd9-c80a-3b2a75995bee"
      },
      "execution_count": 21,
      "outputs": [
        {
          "output_type": "stream",
          "name": "stdout",
          "text": [
            "                                               name      id  minutes  \\\n",
            "0             George S At The Cove  Black Bean Soup   44123       90   \n",
            "1                Healthy For Them  Yogurt Popsicles   67664       10   \n",
            "2                      I Can T Believe It S Spinach   38798       30   \n",
            "3                              Italian  Gut Busters   35173       45   \n",
            "4          Love Is In The Air  Beef Fondue   Sauces   84797       25   \n",
            "...                                             ...     ...      ...   \n",
            "29995  Zurie S Holey Rustic Olive And Cheddar Bread  267661       80   \n",
            "29996          Zwetschgenkuchen  Bavarian Plum Cake  386977      240   \n",
            "29997   Zwiebelkuchen   Southwest German Onion Cake  103312       75   \n",
            "29998                                   Zydeco Soup  486161       60   \n",
            "29999        Cookies By Design   Cookies On A Stick  298512       29   \n",
            "\n",
            "       contributor_id  submitted  n_steps  \\\n",
            "0               35193 2002-10-25      NaN   \n",
            "1               91970 2003-07-26      NaN   \n",
            "2                1533 2002-08-29      NaN   \n",
            "3               22724 2002-07-27      NaN   \n",
            "4                4470 2004-02-23      4.0   \n",
            "...               ...        ...      ...   \n",
            "29995          200862 2007-11-25     16.0   \n",
            "29996          177443 2009-08-24      NaN   \n",
            "29997          161745 2004-11-03      NaN   \n",
            "29998          227978 2012-08-29      NaN   \n",
            "29999          506822 2008-04-15      9.0   \n",
            "\n",
            "                                             description  n_ingredients  \\\n",
            "0      an original recipe created by chef scott meska...           18.0   \n",
            "1      my children and their friends ask for my homem...            NaN   \n",
            "2                these were so go, it surprised even me.            8.0   \n",
            "3      my sister-in-law made these for us at a family...            NaN   \n",
            "4      i think a fondue is a very romantic casual din...            NaN   \n",
            "...                                                  ...            ...   \n",
            "29995  this is based on a french recipe but i changed...           10.0   \n",
            "29996  this is a traditional fresh plum cake, thought...           11.0   \n",
            "29997  this is a traditional late summer early fall s...            NaN   \n",
            "29998  this is a delicious soup that i originally fou...            NaN   \n",
            "29999  i've heard of the 'cookies by design' company,...           10.0   \n",
            "\n",
            "       description_length  \n",
            "0                   330.0  \n",
            "1                   255.0  \n",
            "2                    39.0  \n",
            "3                   154.0  \n",
            "4                   587.0  \n",
            "...                   ...  \n",
            "29995               484.0  \n",
            "29996               286.0  \n",
            "29997               311.0  \n",
            "29998               648.0  \n",
            "29999               125.0  \n",
            "\n",
            "[30000 rows x 9 columns]\n"
          ]
        }
      ]
    },
    {
      "cell_type": "markdown",
      "metadata": {
        "id": "J_qhr5l0VMUJ"
      },
      "source": [
        "3.3 Добавьте в таблицу `recipes` столбец `name_word_count`, в котором хранится количество слов из названии рецепта (считайте, что слова в названии разделяются только пробелами). Обратите внимание, что между словами может располагаться несколько пробелов подряд."
      ]
    },
    {
      "cell_type": "code",
      "source": [
        "rp['name_word_count'] = rp['name'].str.split().str.len()\n",
        "print(rp)"
      ],
      "metadata": {
        "id": "Unpmh-WITZAu",
        "colab": {
          "base_uri": "https://localhost:8080/",
          "height": 867
        },
        "outputId": "fbaf3b5a-69cd-4a52-a1ed-53fcb15785a1"
      },
      "execution_count": 22,
      "outputs": [
        {
          "output_type": "execute_result",
          "data": {
            "text/plain": [
              "                                               name      id  minutes  \\\n",
              "0             George S At The Cove  Black Bean Soup   44123       90   \n",
              "1                Healthy For Them  Yogurt Popsicles   67664       10   \n",
              "2                      I Can T Believe It S Spinach   38798       30   \n",
              "3                              Italian  Gut Busters   35173       45   \n",
              "4          Love Is In The Air  Beef Fondue   Sauces   84797       25   \n",
              "...                                             ...     ...      ...   \n",
              "29995  Zurie S Holey Rustic Olive And Cheddar Bread  267661       80   \n",
              "29996          Zwetschgenkuchen  Bavarian Plum Cake  386977      240   \n",
              "29997   Zwiebelkuchen   Southwest German Onion Cake  103312       75   \n",
              "29998                                   Zydeco Soup  486161       60   \n",
              "29999        Cookies By Design   Cookies On A Stick  298512       29   \n",
              "\n",
              "       contributor_id  submitted  n_steps  \\\n",
              "0               35193 2002-10-25      NaN   \n",
              "1               91970 2003-07-26      NaN   \n",
              "2                1533 2002-08-29      NaN   \n",
              "3               22724 2002-07-27      NaN   \n",
              "4                4470 2004-02-23      4.0   \n",
              "...               ...        ...      ...   \n",
              "29995          200862 2007-11-25     16.0   \n",
              "29996          177443 2009-08-24      NaN   \n",
              "29997          161745 2004-11-03      NaN   \n",
              "29998          227978 2012-08-29      NaN   \n",
              "29999          506822 2008-04-15      9.0   \n",
              "\n",
              "                                             description  n_ingredients  \\\n",
              "0      an original recipe created by chef scott meska...           18.0   \n",
              "1      my children and their friends ask for my homem...            NaN   \n",
              "2                these were so go, it surprised even me.            8.0   \n",
              "3      my sister-in-law made these for us at a family...            NaN   \n",
              "4      i think a fondue is a very romantic casual din...            NaN   \n",
              "...                                                  ...            ...   \n",
              "29995  this is based on a french recipe but i changed...           10.0   \n",
              "29996  this is a traditional fresh plum cake, thought...           11.0   \n",
              "29997  this is a traditional late summer early fall s...            NaN   \n",
              "29998  this is a delicious soup that i originally fou...            NaN   \n",
              "29999  i've heard of the 'cookies by design' company,...           10.0   \n",
              "\n",
              "       description_length  name_word_count  \n",
              "0                   330.0                8  \n",
              "1                   255.0                5  \n",
              "2                    39.0                7  \n",
              "3                   154.0                3  \n",
              "4                   587.0                8  \n",
              "...                   ...              ...  \n",
              "29995               484.0                8  \n",
              "29996               286.0                4  \n",
              "29997               311.0                5  \n",
              "29998               648.0                2  \n",
              "29999               125.0                7  \n",
              "\n",
              "[30000 rows x 10 columns]"
            ],
            "text/html": [
              "\n",
              "  <div id=\"df-102201a6-618e-48b0-8390-6bcfd83f2b07\">\n",
              "    <div class=\"colab-df-container\">\n",
              "      <div>\n",
              "<style scoped>\n",
              "    .dataframe tbody tr th:only-of-type {\n",
              "        vertical-align: middle;\n",
              "    }\n",
              "\n",
              "    .dataframe tbody tr th {\n",
              "        vertical-align: top;\n",
              "    }\n",
              "\n",
              "    .dataframe thead th {\n",
              "        text-align: right;\n",
              "    }\n",
              "</style>\n",
              "<table border=\"1\" class=\"dataframe\">\n",
              "  <thead>\n",
              "    <tr style=\"text-align: right;\">\n",
              "      <th></th>\n",
              "      <th>name</th>\n",
              "      <th>id</th>\n",
              "      <th>minutes</th>\n",
              "      <th>contributor_id</th>\n",
              "      <th>submitted</th>\n",
              "      <th>n_steps</th>\n",
              "      <th>description</th>\n",
              "      <th>n_ingredients</th>\n",
              "      <th>description_length</th>\n",
              "      <th>name_word_count</th>\n",
              "    </tr>\n",
              "  </thead>\n",
              "  <tbody>\n",
              "    <tr>\n",
              "      <th>0</th>\n",
              "      <td>George S At The Cove  Black Bean Soup</td>\n",
              "      <td>44123</td>\n",
              "      <td>90</td>\n",
              "      <td>35193</td>\n",
              "      <td>2002-10-25</td>\n",
              "      <td>NaN</td>\n",
              "      <td>an original recipe created by chef scott meska...</td>\n",
              "      <td>18.0</td>\n",
              "      <td>330.0</td>\n",
              "      <td>8</td>\n",
              "    </tr>\n",
              "    <tr>\n",
              "      <th>1</th>\n",
              "      <td>Healthy For Them  Yogurt Popsicles</td>\n",
              "      <td>67664</td>\n",
              "      <td>10</td>\n",
              "      <td>91970</td>\n",
              "      <td>2003-07-26</td>\n",
              "      <td>NaN</td>\n",
              "      <td>my children and their friends ask for my homem...</td>\n",
              "      <td>NaN</td>\n",
              "      <td>255.0</td>\n",
              "      <td>5</td>\n",
              "    </tr>\n",
              "    <tr>\n",
              "      <th>2</th>\n",
              "      <td>I Can T Believe It S Spinach</td>\n",
              "      <td>38798</td>\n",
              "      <td>30</td>\n",
              "      <td>1533</td>\n",
              "      <td>2002-08-29</td>\n",
              "      <td>NaN</td>\n",
              "      <td>these were so go, it surprised even me.</td>\n",
              "      <td>8.0</td>\n",
              "      <td>39.0</td>\n",
              "      <td>7</td>\n",
              "    </tr>\n",
              "    <tr>\n",
              "      <th>3</th>\n",
              "      <td>Italian  Gut Busters</td>\n",
              "      <td>35173</td>\n",
              "      <td>45</td>\n",
              "      <td>22724</td>\n",
              "      <td>2002-07-27</td>\n",
              "      <td>NaN</td>\n",
              "      <td>my sister-in-law made these for us at a family...</td>\n",
              "      <td>NaN</td>\n",
              "      <td>154.0</td>\n",
              "      <td>3</td>\n",
              "    </tr>\n",
              "    <tr>\n",
              "      <th>4</th>\n",
              "      <td>Love Is In The Air  Beef Fondue   Sauces</td>\n",
              "      <td>84797</td>\n",
              "      <td>25</td>\n",
              "      <td>4470</td>\n",
              "      <td>2004-02-23</td>\n",
              "      <td>4.0</td>\n",
              "      <td>i think a fondue is a very romantic casual din...</td>\n",
              "      <td>NaN</td>\n",
              "      <td>587.0</td>\n",
              "      <td>8</td>\n",
              "    </tr>\n",
              "    <tr>\n",
              "      <th>...</th>\n",
              "      <td>...</td>\n",
              "      <td>...</td>\n",
              "      <td>...</td>\n",
              "      <td>...</td>\n",
              "      <td>...</td>\n",
              "      <td>...</td>\n",
              "      <td>...</td>\n",
              "      <td>...</td>\n",
              "      <td>...</td>\n",
              "      <td>...</td>\n",
              "    </tr>\n",
              "    <tr>\n",
              "      <th>29995</th>\n",
              "      <td>Zurie S Holey Rustic Olive And Cheddar Bread</td>\n",
              "      <td>267661</td>\n",
              "      <td>80</td>\n",
              "      <td>200862</td>\n",
              "      <td>2007-11-25</td>\n",
              "      <td>16.0</td>\n",
              "      <td>this is based on a french recipe but i changed...</td>\n",
              "      <td>10.0</td>\n",
              "      <td>484.0</td>\n",
              "      <td>8</td>\n",
              "    </tr>\n",
              "    <tr>\n",
              "      <th>29996</th>\n",
              "      <td>Zwetschgenkuchen  Bavarian Plum Cake</td>\n",
              "      <td>386977</td>\n",
              "      <td>240</td>\n",
              "      <td>177443</td>\n",
              "      <td>2009-08-24</td>\n",
              "      <td>NaN</td>\n",
              "      <td>this is a traditional fresh plum cake, thought...</td>\n",
              "      <td>11.0</td>\n",
              "      <td>286.0</td>\n",
              "      <td>4</td>\n",
              "    </tr>\n",
              "    <tr>\n",
              "      <th>29997</th>\n",
              "      <td>Zwiebelkuchen   Southwest German Onion Cake</td>\n",
              "      <td>103312</td>\n",
              "      <td>75</td>\n",
              "      <td>161745</td>\n",
              "      <td>2004-11-03</td>\n",
              "      <td>NaN</td>\n",
              "      <td>this is a traditional late summer early fall s...</td>\n",
              "      <td>NaN</td>\n",
              "      <td>311.0</td>\n",
              "      <td>5</td>\n",
              "    </tr>\n",
              "    <tr>\n",
              "      <th>29998</th>\n",
              "      <td>Zydeco Soup</td>\n",
              "      <td>486161</td>\n",
              "      <td>60</td>\n",
              "      <td>227978</td>\n",
              "      <td>2012-08-29</td>\n",
              "      <td>NaN</td>\n",
              "      <td>this is a delicious soup that i originally fou...</td>\n",
              "      <td>NaN</td>\n",
              "      <td>648.0</td>\n",
              "      <td>2</td>\n",
              "    </tr>\n",
              "    <tr>\n",
              "      <th>29999</th>\n",
              "      <td>Cookies By Design   Cookies On A Stick</td>\n",
              "      <td>298512</td>\n",
              "      <td>29</td>\n",
              "      <td>506822</td>\n",
              "      <td>2008-04-15</td>\n",
              "      <td>9.0</td>\n",
              "      <td>i've heard of the 'cookies by design' company,...</td>\n",
              "      <td>10.0</td>\n",
              "      <td>125.0</td>\n",
              "      <td>7</td>\n",
              "    </tr>\n",
              "  </tbody>\n",
              "</table>\n",
              "<p>30000 rows × 10 columns</p>\n",
              "</div>\n",
              "      <button class=\"colab-df-convert\" onclick=\"convertToInteractive('df-102201a6-618e-48b0-8390-6bcfd83f2b07')\"\n",
              "              title=\"Convert this dataframe to an interactive table.\"\n",
              "              style=\"display:none;\">\n",
              "        \n",
              "  <svg xmlns=\"http://www.w3.org/2000/svg\" height=\"24px\"viewBox=\"0 0 24 24\"\n",
              "       width=\"24px\">\n",
              "    <path d=\"M0 0h24v24H0V0z\" fill=\"none\"/>\n",
              "    <path d=\"M18.56 5.44l.94 2.06.94-2.06 2.06-.94-2.06-.94-.94-2.06-.94 2.06-2.06.94zm-11 1L8.5 8.5l.94-2.06 2.06-.94-2.06-.94L8.5 2.5l-.94 2.06-2.06.94zm10 10l.94 2.06.94-2.06 2.06-.94-2.06-.94-.94-2.06-.94 2.06-2.06.94z\"/><path d=\"M17.41 7.96l-1.37-1.37c-.4-.4-.92-.59-1.43-.59-.52 0-1.04.2-1.43.59L10.3 9.45l-7.72 7.72c-.78.78-.78 2.05 0 2.83L4 21.41c.39.39.9.59 1.41.59.51 0 1.02-.2 1.41-.59l7.78-7.78 2.81-2.81c.8-.78.8-2.07 0-2.86zM5.41 20L4 18.59l7.72-7.72 1.47 1.35L5.41 20z\"/>\n",
              "  </svg>\n",
              "      </button>\n",
              "      \n",
              "  <style>\n",
              "    .colab-df-container {\n",
              "      display:flex;\n",
              "      flex-wrap:wrap;\n",
              "      gap: 12px;\n",
              "    }\n",
              "\n",
              "    .colab-df-convert {\n",
              "      background-color: #E8F0FE;\n",
              "      border: none;\n",
              "      border-radius: 50%;\n",
              "      cursor: pointer;\n",
              "      display: none;\n",
              "      fill: #1967D2;\n",
              "      height: 32px;\n",
              "      padding: 0 0 0 0;\n",
              "      width: 32px;\n",
              "    }\n",
              "\n",
              "    .colab-df-convert:hover {\n",
              "      background-color: #E2EBFA;\n",
              "      box-shadow: 0px 1px 2px rgba(60, 64, 67, 0.3), 0px 1px 3px 1px rgba(60, 64, 67, 0.15);\n",
              "      fill: #174EA6;\n",
              "    }\n",
              "\n",
              "    [theme=dark] .colab-df-convert {\n",
              "      background-color: #3B4455;\n",
              "      fill: #D2E3FC;\n",
              "    }\n",
              "\n",
              "    [theme=dark] .colab-df-convert:hover {\n",
              "      background-color: #434B5C;\n",
              "      box-shadow: 0px 1px 3px 1px rgba(0, 0, 0, 0.15);\n",
              "      filter: drop-shadow(0px 1px 2px rgba(0, 0, 0, 0.3));\n",
              "      fill: #FFFFFF;\n",
              "    }\n",
              "  </style>\n",
              "\n",
              "      <script>\n",
              "        const buttonEl =\n",
              "          document.querySelector('#df-102201a6-618e-48b0-8390-6bcfd83f2b07 button.colab-df-convert');\n",
              "        buttonEl.style.display =\n",
              "          google.colab.kernel.accessAllowed ? 'block' : 'none';\n",
              "\n",
              "        async function convertToInteractive(key) {\n",
              "          const element = document.querySelector('#df-102201a6-618e-48b0-8390-6bcfd83f2b07');\n",
              "          const dataTable =\n",
              "            await google.colab.kernel.invokeFunction('convertToInteractive',\n",
              "                                                     [key], {});\n",
              "          if (!dataTable) return;\n",
              "\n",
              "          const docLinkHtml = 'Like what you see? Visit the ' +\n",
              "            '<a target=\"_blank\" href=https://colab.research.google.com/notebooks/data_table.ipynb>data table notebook</a>'\n",
              "            + ' to learn more about interactive tables.';\n",
              "          element.innerHTML = '';\n",
              "          dataTable['output_type'] = 'display_data';\n",
              "          await google.colab.output.renderOutput(dataTable, element);\n",
              "          const docLink = document.createElement('div');\n",
              "          docLink.innerHTML = docLinkHtml;\n",
              "          element.appendChild(docLink);\n",
              "        }\n",
              "      </script>\n",
              "    </div>\n",
              "  </div>\n",
              "  "
            ]
          },
          "metadata": {},
          "execution_count": 22
        }
      ]
    },
    {
      "cell_type": "markdown",
      "metadata": {
        "id": "XQYRbU6WVMUK"
      },
      "source": [
        "### Группировки таблиц `pd.DataFrame`"
      ]
    },
    {
      "cell_type": "markdown",
      "metadata": {
        "id": "2PYkZ25hVMUK"
      },
      "source": [
        "4.1 Посчитайте количество рецептов, представленных каждым из участников (`contributor_id`). Какой участник добавил максимальное кол-во рецептов?"
      ]
    },
    {
      "cell_type": "code",
      "source": [
        "rp_count=rp['contributor_id'].value_counts()\n",
        "print('кол-во:', rp_count)\n",
        "print('учасник с максимальным кол-вом и само их кол-во:', rp_count[:1])"
      ],
      "metadata": {
        "id": "lmcV0aOcTY3W",
        "colab": {
          "base_uri": "https://localhost:8080/"
        },
        "outputId": "dccdf5f5-e385-403d-8929-ab4580b44c4e"
      },
      "execution_count": 26,
      "outputs": [
        {
          "output_type": "stream",
          "name": "stdout",
          "text": [
            "кол-во: 89831      421\n",
            "37449      346\n",
            "37779      345\n",
            "1533       186\n",
            "169430     183\n",
            "          ... \n",
            "1061628      1\n",
            "1076183      1\n",
            "429061       1\n",
            "64032        1\n",
            "186118       1\n",
            "Name: contributor_id, Length: 8404, dtype: int64\n",
            "учасник с максимальным кол-вом и само их кол-во: 89831    421\n",
            "Name: contributor_id, dtype: int64\n"
          ]
        }
      ]
    },
    {
      "cell_type": "markdown",
      "metadata": {
        "id": "pAcos_5VVMUL"
      },
      "source": [
        "4.2 Посчитайте средний рейтинг к каждому из рецептов. Для скольких рецептов отсутствуют отзывы? Обратите внимание, что отзыв с нулевым рейтингом или не заполненным текстовым описанием не считается отсутствующим."
      ]
    },
    {
      "cell_type": "code",
      "source": [
        "a=rw.groupby('recipe_id').mean()['rating']\n",
        "print(a)\n",
        "print('отзывов отсутствует:', len(rp['id']) - len(a))"
      ],
      "metadata": {
        "colab": {
          "base_uri": "https://localhost:8080/"
        },
        "id": "tfObaN8CF8MG",
        "outputId": "69447616-2687-4a60-e4ca-1f8ffaff0082"
      },
      "execution_count": 38,
      "outputs": [
        {
          "output_type": "stream",
          "name": "stdout",
          "text": [
            "recipe_id\n",
            "48        1.000000\n",
            "55        4.750000\n",
            "66        4.944444\n",
            "91        4.750000\n",
            "94        5.000000\n",
            "            ...   \n",
            "536547    5.000000\n",
            "536610    0.000000\n",
            "536728    4.000000\n",
            "536729    4.750000\n",
            "536747    0.000000\n",
            "Name: rating, Length: 28100, dtype: float64\n",
            "отзывов отсутствует: 1900\n"
          ]
        }
      ]
    },
    {
      "cell_type": "markdown",
      "metadata": {
        "id": "rvlBo5KmVMUL"
      },
      "source": [
        "4.3 Посчитайте количество рецептов с разбивкой по годам создания."
      ]
    },
    {
      "cell_type": "code",
      "source": [
        "rp.groupby(rp[\"submitted\"].dt.year).count()[\"name\"]"
      ],
      "metadata": {
        "colab": {
          "base_uri": "https://localhost:8080/"
        },
        "id": "ywc-EN5UF8cd",
        "outputId": "a6cbf48e-126c-4bed-f2d4-3e5873a8dcdd"
      },
      "execution_count": 43,
      "outputs": [
        {
          "output_type": "execute_result",
          "data": {
            "text/plain": [
              "submitted\n",
              "1999     275\n",
              "2000     104\n",
              "2001     589\n",
              "2002    2644\n",
              "2003    2334\n",
              "2004    2153\n",
              "2005    3130\n",
              "2006    3473\n",
              "2007    4429\n",
              "2008    4029\n",
              "2009    2963\n",
              "2010    1538\n",
              "2011     922\n",
              "2012     659\n",
              "2013     490\n",
              "2014     139\n",
              "2015      42\n",
              "2016      24\n",
              "2017      39\n",
              "2018      24\n",
              "Name: name, dtype: int64"
            ]
          },
          "metadata": {},
          "execution_count": 43
        }
      ]
    },
    {
      "cell_type": "markdown",
      "metadata": {
        "id": "3O72m2y0VMUM"
      },
      "source": [
        "### Объединение таблиц `pd.DataFrame`"
      ]
    },
    {
      "cell_type": "markdown",
      "metadata": {
        "id": "OV1TxFrMVMUM"
      },
      "source": [
        "5.1 При помощи объединения таблиц, создайте `DataFrame`, состоящий из четырех столбцов: `id`, `name`, `user_id`, `rating`. Рецепты, на которые не оставлен ни один отзыв, должны отсутствовать в полученной таблице. Подтвердите правильность работы вашего кода, выбрав рецепт, не имеющий отзывов, и попытавшись найти строку, соответствующую этому рецепту, в полученном `DataFrame`."
      ]
    },
    {
      "cell_type": "code",
      "source": [
        "dfrm = pd.merge(rp, rw, how=\"inner\", left_on=\"id\", right_on=\"recipe_id\")[[\"id\", \"name\", \"user_id\", \"rating\"]]\n",
        "dfrm"
      ],
      "metadata": {
        "colab": {
          "base_uri": "https://localhost:8080/",
          "height": 424
        },
        "id": "di0pmkeKKXEr",
        "outputId": "e6376562-3181-4bd8-bd8c-bb319e575926"
      },
      "execution_count": 56,
      "outputs": [
        {
          "output_type": "execute_result",
          "data": {
            "text/plain": [
              "            id                                    name  user_id  rating\n",
              "0        44123   George S At The Cove  Black Bean Soup   743566       5\n",
              "1        44123   George S At The Cove  Black Bean Soup    76503       5\n",
              "2        44123   George S At The Cove  Black Bean Soup    34206       5\n",
              "3        67664      Healthy For Them  Yogurt Popsicles   494084       5\n",
              "4        67664      Healthy For Them  Yogurt Popsicles   303445       5\n",
              "...        ...                                     ...      ...     ...\n",
              "126691  486161                             Zydeco Soup   305531       5\n",
              "126692  486161                             Zydeco Soup  1271506       5\n",
              "126693  486161                             Zydeco Soup   724631       5\n",
              "126694  486161                             Zydeco Soup   133174       5\n",
              "126695  298512  Cookies By Design   Cookies On A Stick   804234       1\n",
              "\n",
              "[126696 rows x 4 columns]"
            ],
            "text/html": [
              "\n",
              "  <div id=\"df-ecc07b06-4122-479c-89f6-fa9770065eec\">\n",
              "    <div class=\"colab-df-container\">\n",
              "      <div>\n",
              "<style scoped>\n",
              "    .dataframe tbody tr th:only-of-type {\n",
              "        vertical-align: middle;\n",
              "    }\n",
              "\n",
              "    .dataframe tbody tr th {\n",
              "        vertical-align: top;\n",
              "    }\n",
              "\n",
              "    .dataframe thead th {\n",
              "        text-align: right;\n",
              "    }\n",
              "</style>\n",
              "<table border=\"1\" class=\"dataframe\">\n",
              "  <thead>\n",
              "    <tr style=\"text-align: right;\">\n",
              "      <th></th>\n",
              "      <th>id</th>\n",
              "      <th>name</th>\n",
              "      <th>user_id</th>\n",
              "      <th>rating</th>\n",
              "    </tr>\n",
              "  </thead>\n",
              "  <tbody>\n",
              "    <tr>\n",
              "      <th>0</th>\n",
              "      <td>44123</td>\n",
              "      <td>George S At The Cove  Black Bean Soup</td>\n",
              "      <td>743566</td>\n",
              "      <td>5</td>\n",
              "    </tr>\n",
              "    <tr>\n",
              "      <th>1</th>\n",
              "      <td>44123</td>\n",
              "      <td>George S At The Cove  Black Bean Soup</td>\n",
              "      <td>76503</td>\n",
              "      <td>5</td>\n",
              "    </tr>\n",
              "    <tr>\n",
              "      <th>2</th>\n",
              "      <td>44123</td>\n",
              "      <td>George S At The Cove  Black Bean Soup</td>\n",
              "      <td>34206</td>\n",
              "      <td>5</td>\n",
              "    </tr>\n",
              "    <tr>\n",
              "      <th>3</th>\n",
              "      <td>67664</td>\n",
              "      <td>Healthy For Them  Yogurt Popsicles</td>\n",
              "      <td>494084</td>\n",
              "      <td>5</td>\n",
              "    </tr>\n",
              "    <tr>\n",
              "      <th>4</th>\n",
              "      <td>67664</td>\n",
              "      <td>Healthy For Them  Yogurt Popsicles</td>\n",
              "      <td>303445</td>\n",
              "      <td>5</td>\n",
              "    </tr>\n",
              "    <tr>\n",
              "      <th>...</th>\n",
              "      <td>...</td>\n",
              "      <td>...</td>\n",
              "      <td>...</td>\n",
              "      <td>...</td>\n",
              "    </tr>\n",
              "    <tr>\n",
              "      <th>126691</th>\n",
              "      <td>486161</td>\n",
              "      <td>Zydeco Soup</td>\n",
              "      <td>305531</td>\n",
              "      <td>5</td>\n",
              "    </tr>\n",
              "    <tr>\n",
              "      <th>126692</th>\n",
              "      <td>486161</td>\n",
              "      <td>Zydeco Soup</td>\n",
              "      <td>1271506</td>\n",
              "      <td>5</td>\n",
              "    </tr>\n",
              "    <tr>\n",
              "      <th>126693</th>\n",
              "      <td>486161</td>\n",
              "      <td>Zydeco Soup</td>\n",
              "      <td>724631</td>\n",
              "      <td>5</td>\n",
              "    </tr>\n",
              "    <tr>\n",
              "      <th>126694</th>\n",
              "      <td>486161</td>\n",
              "      <td>Zydeco Soup</td>\n",
              "      <td>133174</td>\n",
              "      <td>5</td>\n",
              "    </tr>\n",
              "    <tr>\n",
              "      <th>126695</th>\n",
              "      <td>298512</td>\n",
              "      <td>Cookies By Design   Cookies On A Stick</td>\n",
              "      <td>804234</td>\n",
              "      <td>1</td>\n",
              "    </tr>\n",
              "  </tbody>\n",
              "</table>\n",
              "<p>126696 rows × 4 columns</p>\n",
              "</div>\n",
              "      <button class=\"colab-df-convert\" onclick=\"convertToInteractive('df-ecc07b06-4122-479c-89f6-fa9770065eec')\"\n",
              "              title=\"Convert this dataframe to an interactive table.\"\n",
              "              style=\"display:none;\">\n",
              "        \n",
              "  <svg xmlns=\"http://www.w3.org/2000/svg\" height=\"24px\"viewBox=\"0 0 24 24\"\n",
              "       width=\"24px\">\n",
              "    <path d=\"M0 0h24v24H0V0z\" fill=\"none\"/>\n",
              "    <path d=\"M18.56 5.44l.94 2.06.94-2.06 2.06-.94-2.06-.94-.94-2.06-.94 2.06-2.06.94zm-11 1L8.5 8.5l.94-2.06 2.06-.94-2.06-.94L8.5 2.5l-.94 2.06-2.06.94zm10 10l.94 2.06.94-2.06 2.06-.94-2.06-.94-.94-2.06-.94 2.06-2.06.94z\"/><path d=\"M17.41 7.96l-1.37-1.37c-.4-.4-.92-.59-1.43-.59-.52 0-1.04.2-1.43.59L10.3 9.45l-7.72 7.72c-.78.78-.78 2.05 0 2.83L4 21.41c.39.39.9.59 1.41.59.51 0 1.02-.2 1.41-.59l7.78-7.78 2.81-2.81c.8-.78.8-2.07 0-2.86zM5.41 20L4 18.59l7.72-7.72 1.47 1.35L5.41 20z\"/>\n",
              "  </svg>\n",
              "      </button>\n",
              "      \n",
              "  <style>\n",
              "    .colab-df-container {\n",
              "      display:flex;\n",
              "      flex-wrap:wrap;\n",
              "      gap: 12px;\n",
              "    }\n",
              "\n",
              "    .colab-df-convert {\n",
              "      background-color: #E8F0FE;\n",
              "      border: none;\n",
              "      border-radius: 50%;\n",
              "      cursor: pointer;\n",
              "      display: none;\n",
              "      fill: #1967D2;\n",
              "      height: 32px;\n",
              "      padding: 0 0 0 0;\n",
              "      width: 32px;\n",
              "    }\n",
              "\n",
              "    .colab-df-convert:hover {\n",
              "      background-color: #E2EBFA;\n",
              "      box-shadow: 0px 1px 2px rgba(60, 64, 67, 0.3), 0px 1px 3px 1px rgba(60, 64, 67, 0.15);\n",
              "      fill: #174EA6;\n",
              "    }\n",
              "\n",
              "    [theme=dark] .colab-df-convert {\n",
              "      background-color: #3B4455;\n",
              "      fill: #D2E3FC;\n",
              "    }\n",
              "\n",
              "    [theme=dark] .colab-df-convert:hover {\n",
              "      background-color: #434B5C;\n",
              "      box-shadow: 0px 1px 3px 1px rgba(0, 0, 0, 0.15);\n",
              "      filter: drop-shadow(0px 1px 2px rgba(0, 0, 0, 0.3));\n",
              "      fill: #FFFFFF;\n",
              "    }\n",
              "  </style>\n",
              "\n",
              "      <script>\n",
              "        const buttonEl =\n",
              "          document.querySelector('#df-ecc07b06-4122-479c-89f6-fa9770065eec button.colab-df-convert');\n",
              "        buttonEl.style.display =\n",
              "          google.colab.kernel.accessAllowed ? 'block' : 'none';\n",
              "\n",
              "        async function convertToInteractive(key) {\n",
              "          const element = document.querySelector('#df-ecc07b06-4122-479c-89f6-fa9770065eec');\n",
              "          const dataTable =\n",
              "            await google.colab.kernel.invokeFunction('convertToInteractive',\n",
              "                                                     [key], {});\n",
              "          if (!dataTable) return;\n",
              "\n",
              "          const docLinkHtml = 'Like what you see? Visit the ' +\n",
              "            '<a target=\"_blank\" href=https://colab.research.google.com/notebooks/data_table.ipynb>data table notebook</a>'\n",
              "            + ' to learn more about interactive tables.';\n",
              "          element.innerHTML = '';\n",
              "          dataTable['output_type'] = 'display_data';\n",
              "          await google.colab.output.renderOutput(dataTable, element);\n",
              "          const docLink = document.createElement('div');\n",
              "          docLink.innerHTML = docLinkHtml;\n",
              "          element.appendChild(docLink);\n",
              "        }\n",
              "      </script>\n",
              "    </div>\n",
              "  </div>\n",
              "  "
            ]
          },
          "metadata": {},
          "execution_count": 56
        }
      ]
    },
    {
      "cell_type": "markdown",
      "metadata": {
        "id": "x6agViORVMUM"
      },
      "source": [
        "5.2 При помощи объединения таблиц и группировок, создайте `DataFrame`, состоящий из трех столбцов: `recipe_id`, `name`, `review_count`, где столбец `review_count` содержит кол-во отзывов, оставленных на рецепт `recipe_id`. У рецептов, на которые не оставлен ни один отзыв, в столбце `review_count` должен быть указан 0. Подтвердите правильность работы вашего кода, выбрав рецепт, не имеющий отзывов, и найдя строку, соответствующую этому рецепту, в полученном `DataFrame`."
      ]
    },
    {
      "cell_type": "code",
      "source": [
        "dfrm1 = pd.merge(rp[['name', 'id']], rw['recipe_id'], left_on='id', right_on='recipe_id')\n",
        "dfrm1\n",
        "dfrm2 = pd.merge(rw.groupby('recipe_id').count()['date'], dfrm, right_on='recipe_id', left_on='recipe_id').drop('id', axis=1)\n",
        "dfrm2.rename(columns={'date': 'review_count'})"
      ],
      "metadata": {
        "colab": {
          "base_uri": "https://localhost:8080/",
          "height": 424
        },
        "id": "8uc21XjfKW2l",
        "outputId": "921c47eb-de32-4532-b345-78d9a3d0fec7"
      },
      "execution_count": 55,
      "outputs": [
        {
          "output_type": "execute_result",
          "data": {
            "text/plain": [
              "        recipe_id  review_count                                        name\n",
              "0              48             2                            Boston Cream Pie\n",
              "1              48             2                            Boston Cream Pie\n",
              "2              55             4  Betty Crocker S Southwestern Guacamole Dip\n",
              "3              55             4  Betty Crocker S Southwestern Guacamole Dip\n",
              "4              55             4  Betty Crocker S Southwestern Guacamole Dip\n",
              "...           ...           ...                                         ...\n",
              "126691     536729             4                Creole Watermelon Feta Salad\n",
              "126692     536747             4                          Lemon Pom Pom Cake\n",
              "126693     536747             4                          Lemon Pom Pom Cake\n",
              "126694     536747             4                          Lemon Pom Pom Cake\n",
              "126695     536747             4                          Lemon Pom Pom Cake\n",
              "\n",
              "[126696 rows x 3 columns]"
            ],
            "text/html": [
              "\n",
              "  <div id=\"df-0ed817fb-2e78-4aba-89fd-8ba3244ef545\">\n",
              "    <div class=\"colab-df-container\">\n",
              "      <div>\n",
              "<style scoped>\n",
              "    .dataframe tbody tr th:only-of-type {\n",
              "        vertical-align: middle;\n",
              "    }\n",
              "\n",
              "    .dataframe tbody tr th {\n",
              "        vertical-align: top;\n",
              "    }\n",
              "\n",
              "    .dataframe thead th {\n",
              "        text-align: right;\n",
              "    }\n",
              "</style>\n",
              "<table border=\"1\" class=\"dataframe\">\n",
              "  <thead>\n",
              "    <tr style=\"text-align: right;\">\n",
              "      <th></th>\n",
              "      <th>recipe_id</th>\n",
              "      <th>review_count</th>\n",
              "      <th>name</th>\n",
              "    </tr>\n",
              "  </thead>\n",
              "  <tbody>\n",
              "    <tr>\n",
              "      <th>0</th>\n",
              "      <td>48</td>\n",
              "      <td>2</td>\n",
              "      <td>Boston Cream Pie</td>\n",
              "    </tr>\n",
              "    <tr>\n",
              "      <th>1</th>\n",
              "      <td>48</td>\n",
              "      <td>2</td>\n",
              "      <td>Boston Cream Pie</td>\n",
              "    </tr>\n",
              "    <tr>\n",
              "      <th>2</th>\n",
              "      <td>55</td>\n",
              "      <td>4</td>\n",
              "      <td>Betty Crocker S Southwestern Guacamole Dip</td>\n",
              "    </tr>\n",
              "    <tr>\n",
              "      <th>3</th>\n",
              "      <td>55</td>\n",
              "      <td>4</td>\n",
              "      <td>Betty Crocker S Southwestern Guacamole Dip</td>\n",
              "    </tr>\n",
              "    <tr>\n",
              "      <th>4</th>\n",
              "      <td>55</td>\n",
              "      <td>4</td>\n",
              "      <td>Betty Crocker S Southwestern Guacamole Dip</td>\n",
              "    </tr>\n",
              "    <tr>\n",
              "      <th>...</th>\n",
              "      <td>...</td>\n",
              "      <td>...</td>\n",
              "      <td>...</td>\n",
              "    </tr>\n",
              "    <tr>\n",
              "      <th>126691</th>\n",
              "      <td>536729</td>\n",
              "      <td>4</td>\n",
              "      <td>Creole Watermelon Feta Salad</td>\n",
              "    </tr>\n",
              "    <tr>\n",
              "      <th>126692</th>\n",
              "      <td>536747</td>\n",
              "      <td>4</td>\n",
              "      <td>Lemon Pom Pom Cake</td>\n",
              "    </tr>\n",
              "    <tr>\n",
              "      <th>126693</th>\n",
              "      <td>536747</td>\n",
              "      <td>4</td>\n",
              "      <td>Lemon Pom Pom Cake</td>\n",
              "    </tr>\n",
              "    <tr>\n",
              "      <th>126694</th>\n",
              "      <td>536747</td>\n",
              "      <td>4</td>\n",
              "      <td>Lemon Pom Pom Cake</td>\n",
              "    </tr>\n",
              "    <tr>\n",
              "      <th>126695</th>\n",
              "      <td>536747</td>\n",
              "      <td>4</td>\n",
              "      <td>Lemon Pom Pom Cake</td>\n",
              "    </tr>\n",
              "  </tbody>\n",
              "</table>\n",
              "<p>126696 rows × 3 columns</p>\n",
              "</div>\n",
              "      <button class=\"colab-df-convert\" onclick=\"convertToInteractive('df-0ed817fb-2e78-4aba-89fd-8ba3244ef545')\"\n",
              "              title=\"Convert this dataframe to an interactive table.\"\n",
              "              style=\"display:none;\">\n",
              "        \n",
              "  <svg xmlns=\"http://www.w3.org/2000/svg\" height=\"24px\"viewBox=\"0 0 24 24\"\n",
              "       width=\"24px\">\n",
              "    <path d=\"M0 0h24v24H0V0z\" fill=\"none\"/>\n",
              "    <path d=\"M18.56 5.44l.94 2.06.94-2.06 2.06-.94-2.06-.94-.94-2.06-.94 2.06-2.06.94zm-11 1L8.5 8.5l.94-2.06 2.06-.94-2.06-.94L8.5 2.5l-.94 2.06-2.06.94zm10 10l.94 2.06.94-2.06 2.06-.94-2.06-.94-.94-2.06-.94 2.06-2.06.94z\"/><path d=\"M17.41 7.96l-1.37-1.37c-.4-.4-.92-.59-1.43-.59-.52 0-1.04.2-1.43.59L10.3 9.45l-7.72 7.72c-.78.78-.78 2.05 0 2.83L4 21.41c.39.39.9.59 1.41.59.51 0 1.02-.2 1.41-.59l7.78-7.78 2.81-2.81c.8-.78.8-2.07 0-2.86zM5.41 20L4 18.59l7.72-7.72 1.47 1.35L5.41 20z\"/>\n",
              "  </svg>\n",
              "      </button>\n",
              "      \n",
              "  <style>\n",
              "    .colab-df-container {\n",
              "      display:flex;\n",
              "      flex-wrap:wrap;\n",
              "      gap: 12px;\n",
              "    }\n",
              "\n",
              "    .colab-df-convert {\n",
              "      background-color: #E8F0FE;\n",
              "      border: none;\n",
              "      border-radius: 50%;\n",
              "      cursor: pointer;\n",
              "      display: none;\n",
              "      fill: #1967D2;\n",
              "      height: 32px;\n",
              "      padding: 0 0 0 0;\n",
              "      width: 32px;\n",
              "    }\n",
              "\n",
              "    .colab-df-convert:hover {\n",
              "      background-color: #E2EBFA;\n",
              "      box-shadow: 0px 1px 2px rgba(60, 64, 67, 0.3), 0px 1px 3px 1px rgba(60, 64, 67, 0.15);\n",
              "      fill: #174EA6;\n",
              "    }\n",
              "\n",
              "    [theme=dark] .colab-df-convert {\n",
              "      background-color: #3B4455;\n",
              "      fill: #D2E3FC;\n",
              "    }\n",
              "\n",
              "    [theme=dark] .colab-df-convert:hover {\n",
              "      background-color: #434B5C;\n",
              "      box-shadow: 0px 1px 3px 1px rgba(0, 0, 0, 0.15);\n",
              "      filter: drop-shadow(0px 1px 2px rgba(0, 0, 0, 0.3));\n",
              "      fill: #FFFFFF;\n",
              "    }\n",
              "  </style>\n",
              "\n",
              "      <script>\n",
              "        const buttonEl =\n",
              "          document.querySelector('#df-0ed817fb-2e78-4aba-89fd-8ba3244ef545 button.colab-df-convert');\n",
              "        buttonEl.style.display =\n",
              "          google.colab.kernel.accessAllowed ? 'block' : 'none';\n",
              "\n",
              "        async function convertToInteractive(key) {\n",
              "          const element = document.querySelector('#df-0ed817fb-2e78-4aba-89fd-8ba3244ef545');\n",
              "          const dataTable =\n",
              "            await google.colab.kernel.invokeFunction('convertToInteractive',\n",
              "                                                     [key], {});\n",
              "          if (!dataTable) return;\n",
              "\n",
              "          const docLinkHtml = 'Like what you see? Visit the ' +\n",
              "            '<a target=\"_blank\" href=https://colab.research.google.com/notebooks/data_table.ipynb>data table notebook</a>'\n",
              "            + ' to learn more about interactive tables.';\n",
              "          element.innerHTML = '';\n",
              "          dataTable['output_type'] = 'display_data';\n",
              "          await google.colab.output.renderOutput(dataTable, element);\n",
              "          const docLink = document.createElement('div');\n",
              "          docLink.innerHTML = docLinkHtml;\n",
              "          element.appendChild(docLink);\n",
              "        }\n",
              "      </script>\n",
              "    </div>\n",
              "  </div>\n",
              "  "
            ]
          },
          "metadata": {},
          "execution_count": 55
        }
      ]
    },
    {
      "cell_type": "markdown",
      "metadata": {
        "id": "XEJJye0yVMUN"
      },
      "source": [
        "5.3. Выясните, рецепты, добавленные в каком году, имеют наименьший средний рейтинг?"
      ]
    },
    {
      "cell_type": "code",
      "source": [
        "rw['rating'].groupby(pd.DatetimeIndex(rw['date']).year).mean().sort_values()"
      ],
      "metadata": {
        "colab": {
          "base_uri": "https://localhost:8080/"
        },
        "id": "J5ekC5RRLwtV",
        "outputId": "3bbb2188-0216-4572-c8f4-899129079d36"
      },
      "execution_count": 57,
      "outputs": [
        {
          "output_type": "execute_result",
          "data": {
            "text/plain": [
              "date\n",
              "2017    3.353042\n",
              "2000    3.384615\n",
              "2018    3.504076\n",
              "2016    3.912603\n",
              "2015    4.047145\n",
              "2014    4.110595\n",
              "2001    4.134426\n",
              "2013    4.274168\n",
              "2011    4.302045\n",
              "2012    4.341427\n",
              "2010    4.454440\n",
              "2002    4.481556\n",
              "2008    4.484635\n",
              "2009    4.524728\n",
              "2003    4.526940\n",
              "2004    4.546548\n",
              "2007    4.547077\n",
              "2005    4.563680\n",
              "2006    4.603673\n",
              "Name: rating, dtype: float64"
            ]
          },
          "metadata": {},
          "execution_count": 57
        }
      ]
    },
    {
      "cell_type": "markdown",
      "metadata": {
        "id": "jYz26alLVMUN"
      },
      "source": [
        "### Сохранение таблиц `pd.DataFrame`"
      ]
    },
    {
      "cell_type": "markdown",
      "metadata": {
        "id": "ghtp7i5nVMUO"
      },
      "source": [
        "6.1 Отсортируйте таблицу в порядке убывания величины столбца `name_word_count` и сохраните результаты выполнения заданий 3.1-3.3 в csv файл. "
      ]
    },
    {
      "cell_type": "code",
      "source": [
        "sort_rp = rp.sort_values(\"name_word_count\", ascending=False)\n",
        "sort_rp.head()"
      ],
      "metadata": {
        "colab": {
          "base_uri": "https://localhost:8080/",
          "height": 667
        },
        "id": "c-C3nNlKPJEH",
        "outputId": "5eac8f03-804b-4309-a813-dfb7c9f9ac98"
      },
      "execution_count": 58,
      "outputs": [
        {
          "output_type": "execute_result",
          "data": {
            "text/plain": [
              "                                                    name      id  minutes  \\\n",
              "26223  Subru Uncle S Whole Green Moong Dal I Ll Be Ma...   77188       95   \n",
              "28083  Tsr Version Of T G I  Friday S Black Bean Soup...  102274       75   \n",
              "26222  Subru Uncle S Toor Ki Dal Sindhi Style  Dad  M...   76908       65   \n",
              "27876  Top Secret Recipes Version Of  I H O P  Griddl...  113346       20   \n",
              "5734   Chicken Curry Or  Cat S Vomit On A Bed Of Magg...  294898       30   \n",
              "\n",
              "       contributor_id  submitted  n_steps  \\\n",
              "26223            6357 2003-11-21      NaN   \n",
              "28083           74652 2004-10-19      9.0   \n",
              "26222            6357 2003-11-18     29.0   \n",
              "27876          175727 2005-03-14      5.0   \n",
              "5734           802799 2008-03-28     11.0   \n",
              "\n",
              "                                             description  n_ingredients  \\\n",
              "26223  my dad and mom quite enjoy this lentil curry. ...           15.0   \n",
              "28083  from www.topsecretrecipes.com i got this copyc...           16.0   \n",
              "26222  this is the lentil curry that subru uncle(our ...           15.0   \n",
              "27876  this recipe is top secret recipes version of i...            9.0   \n",
              "5734   an old family recipe that's easy to make since...           12.0   \n",
              "\n",
              "       description_length  name_word_count  \n",
              "26223               343.0               15  \n",
              "28083               436.0               14  \n",
              "26222              1087.0               14  \n",
              "27876               129.0               14  \n",
              "5734                144.0               13  "
            ],
            "text/html": [
              "\n",
              "  <div id=\"df-e22bb4a3-7a2a-4252-818c-75ef41036949\">\n",
              "    <div class=\"colab-df-container\">\n",
              "      <div>\n",
              "<style scoped>\n",
              "    .dataframe tbody tr th:only-of-type {\n",
              "        vertical-align: middle;\n",
              "    }\n",
              "\n",
              "    .dataframe tbody tr th {\n",
              "        vertical-align: top;\n",
              "    }\n",
              "\n",
              "    .dataframe thead th {\n",
              "        text-align: right;\n",
              "    }\n",
              "</style>\n",
              "<table border=\"1\" class=\"dataframe\">\n",
              "  <thead>\n",
              "    <tr style=\"text-align: right;\">\n",
              "      <th></th>\n",
              "      <th>name</th>\n",
              "      <th>id</th>\n",
              "      <th>minutes</th>\n",
              "      <th>contributor_id</th>\n",
              "      <th>submitted</th>\n",
              "      <th>n_steps</th>\n",
              "      <th>description</th>\n",
              "      <th>n_ingredients</th>\n",
              "      <th>description_length</th>\n",
              "      <th>name_word_count</th>\n",
              "    </tr>\n",
              "  </thead>\n",
              "  <tbody>\n",
              "    <tr>\n",
              "      <th>26223</th>\n",
              "      <td>Subru Uncle S Whole Green Moong Dal I Ll Be Ma...</td>\n",
              "      <td>77188</td>\n",
              "      <td>95</td>\n",
              "      <td>6357</td>\n",
              "      <td>2003-11-21</td>\n",
              "      <td>NaN</td>\n",
              "      <td>my dad and mom quite enjoy this lentil curry. ...</td>\n",
              "      <td>15.0</td>\n",
              "      <td>343.0</td>\n",
              "      <td>15</td>\n",
              "    </tr>\n",
              "    <tr>\n",
              "      <th>28083</th>\n",
              "      <td>Tsr Version Of T G I  Friday S Black Bean Soup...</td>\n",
              "      <td>102274</td>\n",
              "      <td>75</td>\n",
              "      <td>74652</td>\n",
              "      <td>2004-10-19</td>\n",
              "      <td>9.0</td>\n",
              "      <td>from www.topsecretrecipes.com i got this copyc...</td>\n",
              "      <td>16.0</td>\n",
              "      <td>436.0</td>\n",
              "      <td>14</td>\n",
              "    </tr>\n",
              "    <tr>\n",
              "      <th>26222</th>\n",
              "      <td>Subru Uncle S Toor Ki Dal Sindhi Style  Dad  M...</td>\n",
              "      <td>76908</td>\n",
              "      <td>65</td>\n",
              "      <td>6357</td>\n",
              "      <td>2003-11-18</td>\n",
              "      <td>29.0</td>\n",
              "      <td>this is the lentil curry that subru uncle(our ...</td>\n",
              "      <td>15.0</td>\n",
              "      <td>1087.0</td>\n",
              "      <td>14</td>\n",
              "    </tr>\n",
              "    <tr>\n",
              "      <th>27876</th>\n",
              "      <td>Top Secret Recipes Version Of  I H O P  Griddl...</td>\n",
              "      <td>113346</td>\n",
              "      <td>20</td>\n",
              "      <td>175727</td>\n",
              "      <td>2005-03-14</td>\n",
              "      <td>5.0</td>\n",
              "      <td>this recipe is top secret recipes version of i...</td>\n",
              "      <td>9.0</td>\n",
              "      <td>129.0</td>\n",
              "      <td>14</td>\n",
              "    </tr>\n",
              "    <tr>\n",
              "      <th>5734</th>\n",
              "      <td>Chicken Curry Or  Cat S Vomit On A Bed Of Magg...</td>\n",
              "      <td>294898</td>\n",
              "      <td>30</td>\n",
              "      <td>802799</td>\n",
              "      <td>2008-03-28</td>\n",
              "      <td>11.0</td>\n",
              "      <td>an old family recipe that's easy to make since...</td>\n",
              "      <td>12.0</td>\n",
              "      <td>144.0</td>\n",
              "      <td>13</td>\n",
              "    </tr>\n",
              "  </tbody>\n",
              "</table>\n",
              "</div>\n",
              "      <button class=\"colab-df-convert\" onclick=\"convertToInteractive('df-e22bb4a3-7a2a-4252-818c-75ef41036949')\"\n",
              "              title=\"Convert this dataframe to an interactive table.\"\n",
              "              style=\"display:none;\">\n",
              "        \n",
              "  <svg xmlns=\"http://www.w3.org/2000/svg\" height=\"24px\"viewBox=\"0 0 24 24\"\n",
              "       width=\"24px\">\n",
              "    <path d=\"M0 0h24v24H0V0z\" fill=\"none\"/>\n",
              "    <path d=\"M18.56 5.44l.94 2.06.94-2.06 2.06-.94-2.06-.94-.94-2.06-.94 2.06-2.06.94zm-11 1L8.5 8.5l.94-2.06 2.06-.94-2.06-.94L8.5 2.5l-.94 2.06-2.06.94zm10 10l.94 2.06.94-2.06 2.06-.94-2.06-.94-.94-2.06-.94 2.06-2.06.94z\"/><path d=\"M17.41 7.96l-1.37-1.37c-.4-.4-.92-.59-1.43-.59-.52 0-1.04.2-1.43.59L10.3 9.45l-7.72 7.72c-.78.78-.78 2.05 0 2.83L4 21.41c.39.39.9.59 1.41.59.51 0 1.02-.2 1.41-.59l7.78-7.78 2.81-2.81c.8-.78.8-2.07 0-2.86zM5.41 20L4 18.59l7.72-7.72 1.47 1.35L5.41 20z\"/>\n",
              "  </svg>\n",
              "      </button>\n",
              "      \n",
              "  <style>\n",
              "    .colab-df-container {\n",
              "      display:flex;\n",
              "      flex-wrap:wrap;\n",
              "      gap: 12px;\n",
              "    }\n",
              "\n",
              "    .colab-df-convert {\n",
              "      background-color: #E8F0FE;\n",
              "      border: none;\n",
              "      border-radius: 50%;\n",
              "      cursor: pointer;\n",
              "      display: none;\n",
              "      fill: #1967D2;\n",
              "      height: 32px;\n",
              "      padding: 0 0 0 0;\n",
              "      width: 32px;\n",
              "    }\n",
              "\n",
              "    .colab-df-convert:hover {\n",
              "      background-color: #E2EBFA;\n",
              "      box-shadow: 0px 1px 2px rgba(60, 64, 67, 0.3), 0px 1px 3px 1px rgba(60, 64, 67, 0.15);\n",
              "      fill: #174EA6;\n",
              "    }\n",
              "\n",
              "    [theme=dark] .colab-df-convert {\n",
              "      background-color: #3B4455;\n",
              "      fill: #D2E3FC;\n",
              "    }\n",
              "\n",
              "    [theme=dark] .colab-df-convert:hover {\n",
              "      background-color: #434B5C;\n",
              "      box-shadow: 0px 1px 3px 1px rgba(0, 0, 0, 0.15);\n",
              "      filter: drop-shadow(0px 1px 2px rgba(0, 0, 0, 0.3));\n",
              "      fill: #FFFFFF;\n",
              "    }\n",
              "  </style>\n",
              "\n",
              "      <script>\n",
              "        const buttonEl =\n",
              "          document.querySelector('#df-e22bb4a3-7a2a-4252-818c-75ef41036949 button.colab-df-convert');\n",
              "        buttonEl.style.display =\n",
              "          google.colab.kernel.accessAllowed ? 'block' : 'none';\n",
              "\n",
              "        async function convertToInteractive(key) {\n",
              "          const element = document.querySelector('#df-e22bb4a3-7a2a-4252-818c-75ef41036949');\n",
              "          const dataTable =\n",
              "            await google.colab.kernel.invokeFunction('convertToInteractive',\n",
              "                                                     [key], {});\n",
              "          if (!dataTable) return;\n",
              "\n",
              "          const docLinkHtml = 'Like what you see? Visit the ' +\n",
              "            '<a target=\"_blank\" href=https://colab.research.google.com/notebooks/data_table.ipynb>data table notebook</a>'\n",
              "            + ' to learn more about interactive tables.';\n",
              "          element.innerHTML = '';\n",
              "          dataTable['output_type'] = 'display_data';\n",
              "          await google.colab.output.renderOutput(dataTable, element);\n",
              "          const docLink = document.createElement('div');\n",
              "          docLink.innerHTML = docLinkHtml;\n",
              "          element.appendChild(docLink);\n",
              "        }\n",
              "      </script>\n",
              "    </div>\n",
              "  </div>\n",
              "  "
            ]
          },
          "metadata": {},
          "execution_count": 58
        }
      ]
    },
    {
      "cell_type": "code",
      "source": [
        "sort_rp[['description_length', 'name', 'name_word_count']].to_csv('zadanie6.1.csv', index=False)"
      ],
      "metadata": {
        "id": "jagtFlr7Q7o-"
      },
      "execution_count": 59,
      "outputs": []
    },
    {
      "cell_type": "markdown",
      "metadata": {
        "id": "6dDdyHx_VMUO"
      },
      "source": [
        "6.2 Воспользовавшись `pd.ExcelWriter`, cохраните результаты 5.1 и 5.2 в файл: на лист с названием `Рецепты с оценками` сохраните результаты выполнения 5.1; на лист с названием `Количество отзывов по рецептам` сохраните результаты выполнения 5.2."
      ]
    },
    {
      "cell_type": "code",
      "source": [
        "with pd.ExcelWriter(\"zadanie6.2.xlsx\") as writer:\n",
        "    dfrm.to_excel(writer, sheet_name=\"Рецепты с оценками\", index=False)\n",
        "    dfrm2.to_excel(writer, sheet_name=\"Количество отзывов по рецептам\", index=False)"
      ],
      "metadata": {
        "id": "oNQi4C9PPJJN"
      },
      "execution_count": 60,
      "outputs": []
    }
  ],
  "metadata": {
    "kernelspec": {
      "display_name": "Python 3",
      "language": "python",
      "name": "python3"
    },
    "language_info": {
      "codemirror_mode": {
        "name": "ipython",
        "version": 3
      },
      "file_extension": ".py",
      "mimetype": "text/x-python",
      "name": "python",
      "nbconvert_exporter": "python",
      "pygments_lexer": "ipython3",
      "version": "3.7.4"
    },
    "colab": {
      "provenance": []
    }
  },
  "nbformat": 4,
  "nbformat_minor": 0
}