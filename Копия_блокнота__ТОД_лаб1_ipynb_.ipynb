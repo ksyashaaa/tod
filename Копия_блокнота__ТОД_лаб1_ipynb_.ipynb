{
  "nbformat": 4,
  "nbformat_minor": 0,
  "metadata": {
    "colab": {
      "provenance": []
    },
    "kernelspec": {
      "name": "python3",
      "display_name": "Python 3"
    },
    "language_info": {
      "name": "python"
    }
  },
  "cells": [
    {
      "cell_type": "markdown",
      "source": [
        "**1. Файл minutes_n_ingredients.csv содержит информацию об идентификаторе рецепта, времени его выполнения в минутах и количестве необходимых ингредиентов. Считайте данные из этого файла в виде массива numpy типа int32, используя np.loadtxt. Выведите на экран первые 5 строк массива.**"
      ],
      "metadata": {
        "id": "ntZ27duFZyw1"
      }
    },
    {
      "cell_type": "code",
      "execution_count": null,
      "metadata": {
        "colab": {
          "base_uri": "https://localhost:8080/"
        },
        "id": "PyzW_UebZPlk",
        "outputId": "69486bca-f6e2-4ff8-ef77-7c43d6c0fb0a"
      },
      "outputs": [
        {
          "output_type": "stream",
          "name": "stdout",
          "text": [
            "[[127244     60     16]\n",
            " [ 23891     25      7]\n",
            " [ 94746     10      6]\n",
            " [ 67660      5      6]\n",
            " [157911     60     14]]\n"
          ]
        }
      ],
      "source": [
        "import numpy as np\n",
        "doc=np.loadtxt('minutes_n_ingredients.csv', delimiter=',',skiprows=1, dtype=np.int32)\n",
        "print(doc[:5])"
      ]
    },
    {
      "cell_type": "markdown",
      "source": [
        "**2. Вычислите среднее значение, минимум, максимум и медиану по каждому из столбцов, кроме первого.**"
      ],
      "metadata": {
        "id": "RliBEM8ndgmJ"
      }
    },
    {
      "cell_type": "code",
      "source": [
        "import numpy as np\n",
        "doc=np.loadtxt('minutes_n_ingredients.csv', delimiter=',',skiprows=1, dtype=np.int32)\n",
        "doc1 = doc[:,1:]\n",
        "print('cред. знач:', np.mean(doc1, axis=0) ,'min:', np.min(doc1, axis=0), 'max:', np.max(doc1, axis=0), 'медиана:',np.median(doc1, axis=0) )"
      ],
      "metadata": {
        "colab": {
          "base_uri": "https://localhost:8080/"
        },
        "id": "MEs-293Qdgc5",
        "outputId": "c7016519-8b93-4df3-adfb-f2fe50e7daeb"
      },
      "execution_count": null,
      "outputs": [
        {
          "output_type": "stream",
          "name": "stdout",
          "text": [
            "cред. знач: [2.16010017e+04 9.05528000e+00] min: [0 1] max: [2147483647         39] медиана: [40.  9.]\n"
          ]
        }
      ]
    },
    {
      "cell_type": "markdown",
      "source": [
        "**3. Ограничьте сверху значения продолжительности выполнения рецепта значением квантиля q 0.75**"
      ],
      "metadata": {
        "id": "2bXEy0DZgD_L"
      }
    },
    {
      "cell_type": "code",
      "source": [
        "print(doc[doc[:, 1] < np.quantile(doc[:, 1], 0.75)])"
      ],
      "metadata": {
        "colab": {
          "base_uri": "https://localhost:8080/"
        },
        "id": "jP4bn6OCgEMS",
        "outputId": "8f7b9d2e-82f7-4b09-e315-9cc5b956df78"
      },
      "execution_count": null,
      "outputs": [
        {
          "output_type": "stream",
          "name": "stdout",
          "text": [
            "[[127244     60     16]\n",
            " [ 23891     25      7]\n",
            " [ 94746     10      6]\n",
            " ...\n",
            " [371794     35      8]\n",
            " [ 43407     35      7]\n",
            " [370915      5      4]]\n"
          ]
        }
      ]
    },
    {
      "cell_type": "markdown",
      "source": [
        "**4. Посчитайте, для скольких рецептов указана продолжительность, равная нулю. Замените для таких строк значение в данном столбце на 1.**"
      ],
      "metadata": {
        "id": "fMENA-B2g_ov"
      }
    },
    {
      "cell_type": "code",
      "source": [
        "print(len(doc[doc[:, 1] == 0]))\n",
        "doc[doc[:, 1] == 0] = 1 #ответ 0, так как код уже прогнала и все значения заменились. первоначальный ответ=479"
      ],
      "metadata": {
        "colab": {
          "base_uri": "https://localhost:8080/"
        },
        "id": "JvxDBNBlg_zY",
        "outputId": "0804174f-b070-4833-e8ea-60110d498fd5"
      },
      "execution_count": null,
      "outputs": [
        {
          "output_type": "stream",
          "name": "stdout",
          "text": [
            "0\n"
          ]
        }
      ]
    },
    {
      "cell_type": "markdown",
      "source": [
        "**5. Посчитайте, сколько уникальных рецептов находится в датасете.**"
      ],
      "metadata": {
        "id": "bO5X2jFcjWfY"
      }
    },
    {
      "cell_type": "code",
      "source": [
        "print(len(np.unique(doc[:, 0])))"
      ],
      "metadata": {
        "colab": {
          "base_uri": "https://localhost:8080/"
        },
        "id": "HRpXou_wjWVz",
        "outputId": "6eeba896-e891-4456-ac1f-b191b5c26c97"
      },
      "execution_count": null,
      "outputs": [
        {
          "output_type": "stream",
          "name": "stdout",
          "text": [
            "99285\n"
          ]
        }
      ]
    },
    {
      "cell_type": "markdown",
      "source": [
        "**6. Сколько и каких различных значений кол-ва ингредиентов присутвует в рецептах из датасета?**"
      ],
      "metadata": {
        "id": "hPyY57RukJeA"
      }
    },
    {
      "cell_type": "code",
      "source": [
        "print(len(np.unique(doc[:, 2])))\n",
        "print(*np.unique(doc[:, 2]))"
      ],
      "metadata": {
        "colab": {
          "base_uri": "https://localhost:8080/"
        },
        "id": "avvSRjjhkJlo",
        "outputId": "7b77cf32-7316-4665-a355-6def0526d530"
      },
      "execution_count": null,
      "outputs": [
        {
          "output_type": "stream",
          "name": "stdout",
          "text": [
            "37\n",
            "1 2 3 4 5 6 7 8 9 10 11 12 13 14 15 16 17 18 19 20 21 22 23 24 25 26 27 28 29 30 31 32 33 34 35 37 39\n"
          ]
        }
      ]
    },
    {
      "cell_type": "markdown",
      "source": [
        "**7. Создайте версию массива, содержащую информацию только о рецептах, состоящих не более чем из 5 ингредиентов.**"
      ],
      "metadata": {
        "id": "wqVPq84Vk34A"
      }
    },
    {
      "cell_type": "code",
      "source": [
        "print(doc[doc[:, 2] <= 5])\n"
      ],
      "metadata": {
        "colab": {
          "base_uri": "https://localhost:8080/"
        },
        "id": "jZXQDfrek3xB",
        "outputId": "8fbbcb93-defa-47cb-a85a-e6143bc7aad1"
      },
      "execution_count": null,
      "outputs": [
        {
          "output_type": "stream",
          "name": "stdout",
          "text": [
            "[[446597     15      5]\n",
            " [204134      5      3]\n",
            " [ 25623      6      4]\n",
            " ...\n",
            " [ 52088     60      5]\n",
            " [128811     15      4]\n",
            " [370915      5      4]]\n"
          ]
        }
      ]
    },
    {
      "cell_type": "markdown",
      "source": [
        "**8. Для каждого рецепта посчитайте, сколько в среднем ингредиентов приходится на одну минуту рецепта. Найдите максимальное значение этой величины для всего датасета**"
      ],
      "metadata": {
        "id": "9qDJAC1Wldap"
      }
    },
    {
      "cell_type": "code",
      "source": [
        "print(doc[:, 2]/doc[:, 1]) \n",
        "print('максимальное:', np.max(doc[:, 2]/doc[:, 1]))"
      ],
      "metadata": {
        "colab": {
          "base_uri": "https://localhost:8080/"
        },
        "id": "Nmg87O69ldlA",
        "outputId": "960c74a4-600d-4477-ea60-97d5121d0bc2"
      },
      "execution_count": null,
      "outputs": [
        {
          "output_type": "stream",
          "name": "stdout",
          "text": [
            "[0.26666667 0.28       0.6        ... 0.23076923 0.8        0.1       ]\n",
            "максимальное: 14.0\n"
          ]
        }
      ]
    },
    {
      "cell_type": "markdown",
      "source": [
        "**9. Вычислите среднее количество ингредиентов для топ-100 рецептов с наибольшей продолжительностью**"
      ],
      "metadata": {
        "id": "hMtqn1RtnjkT"
      }
    },
    {
      "cell_type": "code",
      "source": [
        "doc2 = doc[doc[:, 1].argsort()]\n",
        "doc2 = doc2[-100:]\n",
        "np.mean(doc2[:, 2])"
      ],
      "metadata": {
        "colab": {
          "base_uri": "https://localhost:8080/"
        },
        "id": "KzidkVrnnjsw",
        "outputId": "b7f8f78c-dfc9-4524-fdcb-e111a9f5af01"
      },
      "execution_count": null,
      "outputs": [
        {
          "output_type": "execute_result",
          "data": {
            "text/plain": [
              "6.61"
            ]
          },
          "metadata": {},
          "execution_count": 36
        }
      ]
    },
    {
      "cell_type": "markdown",
      "source": [
        "**10. Выберите случайным образом и выведите информацию о 10 различных рецептах**"
      ],
      "metadata": {
        "id": "KvlfzUjypdDn"
      }
    },
    {
      "cell_type": "code",
      "source": [
        "doc[np.random.randint(np.size(doc, axis = 0), size=10)]"
      ],
      "metadata": {
        "colab": {
          "base_uri": "https://localhost:8080/"
        },
        "id": "s3f1iSPqpc7p",
        "outputId": "53fec13c-f157-4389-db6c-36a34aef63dc"
      },
      "execution_count": null,
      "outputs": [
        {
          "output_type": "execute_result",
          "data": {
            "text/plain": [
              "array([[148113,     55,     17],\n",
              "       [106641,     50,      6],\n",
              "       [413415,     10,     11],\n",
              "       [104976,  28810,      6],\n",
              "       [421802,     10,      9],\n",
              "       [233474,     25,     11],\n",
              "       [243654,      5,      4],\n",
              "       [190815,     80,     10],\n",
              "       [197762,     50,     12],\n",
              "       [411869,      5,      3]], dtype=int32)"
            ]
          },
          "metadata": {},
          "execution_count": 39
        }
      ]
    },
    {
      "cell_type": "markdown",
      "source": [
        "**11. Выведите процент рецептов, кол-во ингредиентов в которых меньше среднего.**"
      ],
      "metadata": {
        "id": "CpGoSH0Zqq7R"
      }
    },
    {
      "cell_type": "code",
      "source": [
        "srzn = np.mean(doc[:, 2])\n",
        "klvo = len(doc[doc[:, 2] < srzn])\n",
        "pros = (klvo / len(doc)) * 100\n",
        "print(pros, '%')"
      ],
      "metadata": {
        "colab": {
          "base_uri": "https://localhost:8080/"
        },
        "id": "9C8MGEGKqrCg",
        "outputId": "d24f60c8-c043-4487-8167-568235f9b9cd"
      },
      "execution_count": null,
      "outputs": [
        {
          "output_type": "stream",
          "name": "stdout",
          "text": [
            "58.998 %\n"
          ]
        }
      ]
    },
    {
      "cell_type": "markdown",
      "source": [
        "**12. Назовем \"простым\" такой рецепт, длительность выполнения которого не больше 20 минут и кол-во ингредиентов в котором не больше 5. Создайте версию датасета с дополнительным столбцом, значениями которого являются 1, если рецепт простой, и 0 в противном случае.**"
      ],
      "metadata": {
        "id": "glliHnvWr4hZ"
      }
    },
    {
      "cell_type": "code",
      "source": [
        "print(np.c_[doc, (doc[:, 1] <= 20) & (doc[:, 2] <= 5)])"
      ],
      "metadata": {
        "colab": {
          "base_uri": "https://localhost:8080/"
        },
        "id": "Ljyc2EAEr4rQ",
        "outputId": "2601ee61-7efd-4d61-b53c-7d6fe1df14f9"
      },
      "execution_count": null,
      "outputs": [
        {
          "output_type": "stream",
          "name": "stdout",
          "text": [
            "[[127244     60     16      0]\n",
            " [ 23891     25      7      0]\n",
            " [ 94746     10      6      0]\n",
            " ...\n",
            " [498432     65     15      0]\n",
            " [370915      5      4      1]\n",
            " [ 81993    140     14      0]]\n"
          ]
        }
      ]
    },
    {
      "cell_type": "markdown",
      "source": [
        "**13. Выведите процент \"простых\" рецептов в датасете**"
      ],
      "metadata": {
        "id": "2TFapd1iteQZ"
      }
    },
    {
      "cell_type": "code",
      "source": [
        "doc4=np.c_[doc, (doc[:, 1] <= 20) & (doc[:, 2] <= 5)]\n",
        "print((len(doc4[doc4[:, 3] == 1])/len(doc4))*100)"
      ],
      "metadata": {
        "colab": {
          "base_uri": "https://localhost:8080/"
        },
        "id": "G67YAm7LteXU",
        "outputId": "6356b9f0-7cc0-49f0-c6f1-53c986190715"
      },
      "execution_count": null,
      "outputs": [
        {
          "output_type": "stream",
          "name": "stdout",
          "text": [
            "9.991999999999999\n"
          ]
        }
      ]
    },
    {
      "cell_type": "markdown",
      "source": [
        "**14. Разделим рецепты на группы по следующему правилу. Назовем рецепты короткими, если их продолжительность составляет менее 10 минут; стандартными, если их продолжительность составляет более 10, но менее 20 минут; и длинными, если их продолжительность составляет не менее 20 минут. Создайте трехмерный массив, где нулевая ось отвечает за номер группы (короткий, стандартный или длинный рецепт), первая ось - за сам рецепт и вторая ось - за характеристики рецепта. Выберите максимальное количество рецептов из каждой группы таким образом, чтобы было возможно сформировать трехмерный массив. Выведите форму полученного массива.**"
      ],
      "metadata": {
        "id": "_gHnTq35uTeB"
      }
    },
    {
      "cell_type": "code",
      "source": [
        "print('к величайшему сожалению, тут я бессильна')"
      ],
      "metadata": {
        "colab": {
          "base_uri": "https://localhost:8080/"
        },
        "id": "3wnGgsh1uToq",
        "outputId": "e8703833-4129-4df7-cc02-1b49264ff092"
      },
      "execution_count": null,
      "outputs": [
        {
          "output_type": "stream",
          "name": "stdout",
          "text": [
            "к величайшему сожалению, тут я бессильна\n"
          ]
        }
      ]
    }
  ]
}